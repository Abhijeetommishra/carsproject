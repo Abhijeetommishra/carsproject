{
 "cells": [
  {
   "cell_type": "markdown",
   "id": "6c4724b2",
   "metadata": {},
   "source": [
    "# Introduction "
   ]
  },
  {
   "cell_type": "markdown",
   "id": "5630e150",
   "metadata": {},
   "source": [
    "Welcome to our machine learning project on predicting car prices! In this project, we aim to develop a predictive model that can estimate the price of a car based on its various features and characteristics.\n",
    "We will use a dataset of historical car sales that includes features such as make, model, year, mileage, engine size, transmission type, and more. We will apply various machine learning algorithms to build a predictive model that can accurately estimate the price of a car based on these features.\n"
   ]
  },
  {
   "cell_type": "markdown",
   "id": "d47102c6",
   "metadata": {},
   "source": [
    "## Problem Statement "
   ]
  },
  {
   "cell_type": "markdown",
   "id": "66bd915b",
   "metadata": {},
   "source": [
    "The problem statement for our machine learning project on predicting car prices is to develop a model that can accurately estimate the price of a car based on its various features and characteristics."
   ]
  },
  {
   "cell_type": "markdown",
   "id": "09fc63eb",
   "metadata": {},
   "source": [
    "To summarize the problem statement we are building a machine learning model for prediction of car price"
   ]
  },
  {
   "cell_type": "markdown",
   "id": "27e1b0fd",
   "metadata": {},
   "source": [
    "### Importing Necessary Libraries "
   ]
  },
  {
   "cell_type": "code",
   "execution_count": 2,
   "id": "8ccd0b83",
   "metadata": {},
   "outputs": [],
   "source": [
    "import numpy as np \n",
    "import pandas as pd \n",
    "import warnings\n",
    "warnings.filterwarnings('ignore')\n",
    "import matplotlib.pyplot as plt\n",
    "import seaborn as sns "
   ]
  },
  {
   "cell_type": "markdown",
   "id": "714965a6",
   "metadata": {},
   "source": [
    "### Importing the dataset "
   ]
  },
  {
   "cell_type": "code",
   "execution_count": 3,
   "id": "27e1d295",
   "metadata": {},
   "outputs": [],
   "source": [
    "df = pd.read_csv(r\"C:\\Users\\ITVEDANT10\\Downloads\\cars (1).csv\")"
   ]
  },
  {
   "cell_type": "code",
   "execution_count": 4,
   "id": "51621a30",
   "metadata": {},
   "outputs": [
    {
     "data": {
      "text/html": [
       "<div>\n",
       "<style scoped>\n",
       "    .dataframe tbody tr th:only-of-type {\n",
       "        vertical-align: middle;\n",
       "    }\n",
       "\n",
       "    .dataframe tbody tr th {\n",
       "        vertical-align: top;\n",
       "    }\n",
       "\n",
       "    .dataframe thead th {\n",
       "        text-align: right;\n",
       "    }\n",
       "</style>\n",
       "<table border=\"1\" class=\"dataframe\">\n",
       "  <thead>\n",
       "    <tr style=\"text-align: right;\">\n",
       "      <th></th>\n",
       "      <th>symboling</th>\n",
       "      <th>normalized-losses</th>\n",
       "      <th>make</th>\n",
       "      <th>fuel-type</th>\n",
       "      <th>body-style</th>\n",
       "      <th>drive-wheels</th>\n",
       "      <th>engine-location</th>\n",
       "      <th>width</th>\n",
       "      <th>height</th>\n",
       "      <th>engine-type</th>\n",
       "      <th>engine-size</th>\n",
       "      <th>horsepower</th>\n",
       "      <th>city-mpg</th>\n",
       "      <th>highway-mpg</th>\n",
       "      <th>price</th>\n",
       "    </tr>\n",
       "  </thead>\n",
       "  <tbody>\n",
       "    <tr>\n",
       "      <th>0</th>\n",
       "      <td>3</td>\n",
       "      <td>?</td>\n",
       "      <td>alfa-romero</td>\n",
       "      <td>gas</td>\n",
       "      <td>convertible</td>\n",
       "      <td>rwd</td>\n",
       "      <td>front</td>\n",
       "      <td>64.1</td>\n",
       "      <td>48.8</td>\n",
       "      <td>dohc</td>\n",
       "      <td>130</td>\n",
       "      <td>111</td>\n",
       "      <td>21</td>\n",
       "      <td>27</td>\n",
       "      <td>13495</td>\n",
       "    </tr>\n",
       "    <tr>\n",
       "      <th>1</th>\n",
       "      <td>3</td>\n",
       "      <td>?</td>\n",
       "      <td>alfa-romero</td>\n",
       "      <td>gas</td>\n",
       "      <td>convertible</td>\n",
       "      <td>rwd</td>\n",
       "      <td>front</td>\n",
       "      <td>64.1</td>\n",
       "      <td>48.8</td>\n",
       "      <td>dohc</td>\n",
       "      <td>130</td>\n",
       "      <td>111</td>\n",
       "      <td>21</td>\n",
       "      <td>27</td>\n",
       "      <td>16500</td>\n",
       "    </tr>\n",
       "    <tr>\n",
       "      <th>2</th>\n",
       "      <td>1</td>\n",
       "      <td>?</td>\n",
       "      <td>alfa-romero</td>\n",
       "      <td>gas</td>\n",
       "      <td>hatchback</td>\n",
       "      <td>rwd</td>\n",
       "      <td>front</td>\n",
       "      <td>65.5</td>\n",
       "      <td>52.4</td>\n",
       "      <td>ohcv</td>\n",
       "      <td>152</td>\n",
       "      <td>154</td>\n",
       "      <td>19</td>\n",
       "      <td>26</td>\n",
       "      <td>16500</td>\n",
       "    </tr>\n",
       "    <tr>\n",
       "      <th>3</th>\n",
       "      <td>2</td>\n",
       "      <td>164</td>\n",
       "      <td>audi</td>\n",
       "      <td>gas</td>\n",
       "      <td>sedan</td>\n",
       "      <td>fwd</td>\n",
       "      <td>front</td>\n",
       "      <td>66.2</td>\n",
       "      <td>54.3</td>\n",
       "      <td>ohc</td>\n",
       "      <td>109</td>\n",
       "      <td>102</td>\n",
       "      <td>24</td>\n",
       "      <td>30</td>\n",
       "      <td>13950</td>\n",
       "    </tr>\n",
       "    <tr>\n",
       "      <th>4</th>\n",
       "      <td>2</td>\n",
       "      <td>164</td>\n",
       "      <td>audi</td>\n",
       "      <td>gas</td>\n",
       "      <td>sedan</td>\n",
       "      <td>4wd</td>\n",
       "      <td>front</td>\n",
       "      <td>66.4</td>\n",
       "      <td>54.3</td>\n",
       "      <td>ohc</td>\n",
       "      <td>136</td>\n",
       "      <td>115</td>\n",
       "      <td>18</td>\n",
       "      <td>22</td>\n",
       "      <td>17450</td>\n",
       "    </tr>\n",
       "    <tr>\n",
       "      <th>...</th>\n",
       "      <td>...</td>\n",
       "      <td>...</td>\n",
       "      <td>...</td>\n",
       "      <td>...</td>\n",
       "      <td>...</td>\n",
       "      <td>...</td>\n",
       "      <td>...</td>\n",
       "      <td>...</td>\n",
       "      <td>...</td>\n",
       "      <td>...</td>\n",
       "      <td>...</td>\n",
       "      <td>...</td>\n",
       "      <td>...</td>\n",
       "      <td>...</td>\n",
       "      <td>...</td>\n",
       "    </tr>\n",
       "    <tr>\n",
       "      <th>200</th>\n",
       "      <td>-1</td>\n",
       "      <td>95</td>\n",
       "      <td>volvo</td>\n",
       "      <td>gas</td>\n",
       "      <td>sedan</td>\n",
       "      <td>rwd</td>\n",
       "      <td>front</td>\n",
       "      <td>68.9</td>\n",
       "      <td>55.5</td>\n",
       "      <td>ohc</td>\n",
       "      <td>141</td>\n",
       "      <td>114</td>\n",
       "      <td>23</td>\n",
       "      <td>28</td>\n",
       "      <td>16845</td>\n",
       "    </tr>\n",
       "    <tr>\n",
       "      <th>201</th>\n",
       "      <td>-1</td>\n",
       "      <td>95</td>\n",
       "      <td>volvo</td>\n",
       "      <td>gas</td>\n",
       "      <td>sedan</td>\n",
       "      <td>rwd</td>\n",
       "      <td>front</td>\n",
       "      <td>68.8</td>\n",
       "      <td>55.5</td>\n",
       "      <td>ohc</td>\n",
       "      <td>141</td>\n",
       "      <td>160</td>\n",
       "      <td>19</td>\n",
       "      <td>25</td>\n",
       "      <td>19045</td>\n",
       "    </tr>\n",
       "    <tr>\n",
       "      <th>202</th>\n",
       "      <td>-1</td>\n",
       "      <td>95</td>\n",
       "      <td>volvo</td>\n",
       "      <td>gas</td>\n",
       "      <td>sedan</td>\n",
       "      <td>rwd</td>\n",
       "      <td>front</td>\n",
       "      <td>68.9</td>\n",
       "      <td>55.5</td>\n",
       "      <td>ohcv</td>\n",
       "      <td>173</td>\n",
       "      <td>134</td>\n",
       "      <td>18</td>\n",
       "      <td>23</td>\n",
       "      <td>21485</td>\n",
       "    </tr>\n",
       "    <tr>\n",
       "      <th>203</th>\n",
       "      <td>-1</td>\n",
       "      <td>95</td>\n",
       "      <td>volvo</td>\n",
       "      <td>diesel</td>\n",
       "      <td>sedan</td>\n",
       "      <td>rwd</td>\n",
       "      <td>front</td>\n",
       "      <td>68.9</td>\n",
       "      <td>55.5</td>\n",
       "      <td>ohc</td>\n",
       "      <td>145</td>\n",
       "      <td>106</td>\n",
       "      <td>26</td>\n",
       "      <td>27</td>\n",
       "      <td>22470</td>\n",
       "    </tr>\n",
       "    <tr>\n",
       "      <th>204</th>\n",
       "      <td>-1</td>\n",
       "      <td>95</td>\n",
       "      <td>volvo</td>\n",
       "      <td>gas</td>\n",
       "      <td>sedan</td>\n",
       "      <td>rwd</td>\n",
       "      <td>front</td>\n",
       "      <td>68.9</td>\n",
       "      <td>55.5</td>\n",
       "      <td>ohc</td>\n",
       "      <td>141</td>\n",
       "      <td>114</td>\n",
       "      <td>19</td>\n",
       "      <td>25</td>\n",
       "      <td>22625</td>\n",
       "    </tr>\n",
       "  </tbody>\n",
       "</table>\n",
       "<p>205 rows × 15 columns</p>\n",
       "</div>"
      ],
      "text/plain": [
       "     symboling normalized-losses         make fuel-type   body-style  \\\n",
       "0            3                 ?  alfa-romero       gas  convertible   \n",
       "1            3                 ?  alfa-romero       gas  convertible   \n",
       "2            1                 ?  alfa-romero       gas    hatchback   \n",
       "3            2               164         audi       gas        sedan   \n",
       "4            2               164         audi       gas        sedan   \n",
       "..         ...               ...          ...       ...          ...   \n",
       "200         -1                95        volvo       gas        sedan   \n",
       "201         -1                95        volvo       gas        sedan   \n",
       "202         -1                95        volvo       gas        sedan   \n",
       "203         -1                95        volvo    diesel        sedan   \n",
       "204         -1                95        volvo       gas        sedan   \n",
       "\n",
       "    drive-wheels engine-location  width  height engine-type  engine-size  \\\n",
       "0            rwd           front   64.1    48.8        dohc          130   \n",
       "1            rwd           front   64.1    48.8        dohc          130   \n",
       "2            rwd           front   65.5    52.4        ohcv          152   \n",
       "3            fwd           front   66.2    54.3         ohc          109   \n",
       "4            4wd           front   66.4    54.3         ohc          136   \n",
       "..           ...             ...    ...     ...         ...          ...   \n",
       "200          rwd           front   68.9    55.5         ohc          141   \n",
       "201          rwd           front   68.8    55.5         ohc          141   \n",
       "202          rwd           front   68.9    55.5        ohcv          173   \n",
       "203          rwd           front   68.9    55.5         ohc          145   \n",
       "204          rwd           front   68.9    55.5         ohc          141   \n",
       "\n",
       "    horsepower  city-mpg  highway-mpg  price  \n",
       "0          111        21           27  13495  \n",
       "1          111        21           27  16500  \n",
       "2          154        19           26  16500  \n",
       "3          102        24           30  13950  \n",
       "4          115        18           22  17450  \n",
       "..         ...       ...          ...    ...  \n",
       "200        114        23           28  16845  \n",
       "201        160        19           25  19045  \n",
       "202        134        18           23  21485  \n",
       "203        106        26           27  22470  \n",
       "204        114        19           25  22625  \n",
       "\n",
       "[205 rows x 15 columns]"
      ]
     },
     "execution_count": 4,
     "metadata": {},
     "output_type": "execute_result"
    }
   ],
   "source": [
    "df"
   ]
  },
  {
   "cell_type": "markdown",
   "id": "e666ff61",
   "metadata": {},
   "source": [
    "### Dataset description "
   ]
  },
  {
   "cell_type": "markdown",
   "id": "5612fadf",
   "metadata": {},
   "source": [
    "The dataset consist of 15 columns with 14 Features and 1 target i.e. 'price' "
   ]
  },
  {
   "cell_type": "markdown",
   "id": "92b2f583",
   "metadata": {},
   "source": [
    "Diffrent Features available can be called using a code."
   ]
  },
  {
   "cell_type": "code",
   "execution_count": 5,
   "id": "6bffc8cf",
   "metadata": {},
   "outputs": [
    {
     "data": {
      "text/plain": [
       "Index(['symboling', 'normalized-losses', 'make', 'fuel-type', 'body-style',\n",
       "       'drive-wheels', 'engine-location', 'width', 'height', 'engine-type',\n",
       "       'engine-size', 'horsepower', 'city-mpg', 'highway-mpg', 'price'],\n",
       "      dtype='object')"
      ]
     },
     "execution_count": 5,
     "metadata": {},
     "output_type": "execute_result"
    }
   ],
   "source": [
    "df.columns"
   ]
  },
  {
   "cell_type": "code",
   "execution_count": 6,
   "id": "bf7e71ea",
   "metadata": {},
   "outputs": [
    {
     "data": {
      "text/html": [
       "<div>\n",
       "<style scoped>\n",
       "    .dataframe tbody tr th:only-of-type {\n",
       "        vertical-align: middle;\n",
       "    }\n",
       "\n",
       "    .dataframe tbody tr th {\n",
       "        vertical-align: top;\n",
       "    }\n",
       "\n",
       "    .dataframe thead th {\n",
       "        text-align: right;\n",
       "    }\n",
       "</style>\n",
       "<table border=\"1\" class=\"dataframe\">\n",
       "  <thead>\n",
       "    <tr style=\"text-align: right;\">\n",
       "      <th></th>\n",
       "      <th>symboling</th>\n",
       "      <th>width</th>\n",
       "      <th>height</th>\n",
       "      <th>engine-size</th>\n",
       "      <th>city-mpg</th>\n",
       "      <th>highway-mpg</th>\n",
       "      <th>price</th>\n",
       "    </tr>\n",
       "  </thead>\n",
       "  <tbody>\n",
       "    <tr>\n",
       "      <th>count</th>\n",
       "      <td>205.000000</td>\n",
       "      <td>205.000000</td>\n",
       "      <td>205.000000</td>\n",
       "      <td>205.000000</td>\n",
       "      <td>205.000000</td>\n",
       "      <td>205.000000</td>\n",
       "      <td>205.000000</td>\n",
       "    </tr>\n",
       "    <tr>\n",
       "      <th>mean</th>\n",
       "      <td>0.834146</td>\n",
       "      <td>65.907805</td>\n",
       "      <td>53.724878</td>\n",
       "      <td>126.907317</td>\n",
       "      <td>25.219512</td>\n",
       "      <td>30.751220</td>\n",
       "      <td>13227.478049</td>\n",
       "    </tr>\n",
       "    <tr>\n",
       "      <th>std</th>\n",
       "      <td>1.245307</td>\n",
       "      <td>2.145204</td>\n",
       "      <td>2.443522</td>\n",
       "      <td>41.642693</td>\n",
       "      <td>6.542142</td>\n",
       "      <td>6.886443</td>\n",
       "      <td>7902.651615</td>\n",
       "    </tr>\n",
       "    <tr>\n",
       "      <th>min</th>\n",
       "      <td>-2.000000</td>\n",
       "      <td>60.300000</td>\n",
       "      <td>47.800000</td>\n",
       "      <td>61.000000</td>\n",
       "      <td>13.000000</td>\n",
       "      <td>16.000000</td>\n",
       "      <td>5118.000000</td>\n",
       "    </tr>\n",
       "    <tr>\n",
       "      <th>25%</th>\n",
       "      <td>0.000000</td>\n",
       "      <td>64.100000</td>\n",
       "      <td>52.000000</td>\n",
       "      <td>97.000000</td>\n",
       "      <td>19.000000</td>\n",
       "      <td>25.000000</td>\n",
       "      <td>7788.000000</td>\n",
       "    </tr>\n",
       "    <tr>\n",
       "      <th>50%</th>\n",
       "      <td>1.000000</td>\n",
       "      <td>65.500000</td>\n",
       "      <td>54.100000</td>\n",
       "      <td>120.000000</td>\n",
       "      <td>24.000000</td>\n",
       "      <td>30.000000</td>\n",
       "      <td>10345.000000</td>\n",
       "    </tr>\n",
       "    <tr>\n",
       "      <th>75%</th>\n",
       "      <td>2.000000</td>\n",
       "      <td>66.900000</td>\n",
       "      <td>55.500000</td>\n",
       "      <td>141.000000</td>\n",
       "      <td>30.000000</td>\n",
       "      <td>34.000000</td>\n",
       "      <td>16500.000000</td>\n",
       "    </tr>\n",
       "    <tr>\n",
       "      <th>max</th>\n",
       "      <td>3.000000</td>\n",
       "      <td>72.300000</td>\n",
       "      <td>59.800000</td>\n",
       "      <td>326.000000</td>\n",
       "      <td>49.000000</td>\n",
       "      <td>54.000000</td>\n",
       "      <td>45400.000000</td>\n",
       "    </tr>\n",
       "  </tbody>\n",
       "</table>\n",
       "</div>"
      ],
      "text/plain": [
       "        symboling       width      height  engine-size    city-mpg  \\\n",
       "count  205.000000  205.000000  205.000000   205.000000  205.000000   \n",
       "mean     0.834146   65.907805   53.724878   126.907317   25.219512   \n",
       "std      1.245307    2.145204    2.443522    41.642693    6.542142   \n",
       "min     -2.000000   60.300000   47.800000    61.000000   13.000000   \n",
       "25%      0.000000   64.100000   52.000000    97.000000   19.000000   \n",
       "50%      1.000000   65.500000   54.100000   120.000000   24.000000   \n",
       "75%      2.000000   66.900000   55.500000   141.000000   30.000000   \n",
       "max      3.000000   72.300000   59.800000   326.000000   49.000000   \n",
       "\n",
       "       highway-mpg         price  \n",
       "count   205.000000    205.000000  \n",
       "mean     30.751220  13227.478049  \n",
       "std       6.886443   7902.651615  \n",
       "min      16.000000   5118.000000  \n",
       "25%      25.000000   7788.000000  \n",
       "50%      30.000000  10345.000000  \n",
       "75%      34.000000  16500.000000  \n",
       "max      54.000000  45400.000000  "
      ]
     },
     "execution_count": 6,
     "metadata": {},
     "output_type": "execute_result"
    }
   ],
   "source": [
    "df.describe()"
   ]
  },
  {
   "cell_type": "code",
   "execution_count": 7,
   "id": "853cf6d0",
   "metadata": {},
   "outputs": [
    {
     "name": "stdout",
     "output_type": "stream",
     "text": [
      "<class 'pandas.core.frame.DataFrame'>\n",
      "RangeIndex: 205 entries, 0 to 204\n",
      "Data columns (total 15 columns):\n",
      " #   Column             Non-Null Count  Dtype  \n",
      "---  ------             --------------  -----  \n",
      " 0   symboling          205 non-null    int64  \n",
      " 1   normalized-losses  205 non-null    object \n",
      " 2   make               205 non-null    object \n",
      " 3   fuel-type          205 non-null    object \n",
      " 4   body-style         205 non-null    object \n",
      " 5   drive-wheels       205 non-null    object \n",
      " 6   engine-location    205 non-null    object \n",
      " 7   width              205 non-null    float64\n",
      " 8   height             205 non-null    float64\n",
      " 9   engine-type        205 non-null    object \n",
      " 10  engine-size        205 non-null    int64  \n",
      " 11  horsepower         205 non-null    object \n",
      " 12  city-mpg           205 non-null    int64  \n",
      " 13  highway-mpg        205 non-null    int64  \n",
      " 14  price              205 non-null    int64  \n",
      "dtypes: float64(2), int64(5), object(8)\n",
      "memory usage: 24.1+ KB\n"
     ]
    }
   ],
   "source": [
    "df.info()"
   ]
  },
  {
   "cell_type": "markdown",
   "id": "ebb7e1a7",
   "metadata": {},
   "source": [
    "There are 8 columns with Datatype object"
   ]
  },
  {
   "cell_type": "markdown",
   "id": "68b93ba2",
   "metadata": {},
   "source": [
    "### Removing the null values"
   ]
  },
  {
   "cell_type": "code",
   "execution_count": 8,
   "id": "1fcdc988",
   "metadata": {},
   "outputs": [
    {
     "data": {
      "text/plain": [
       "symboling            0\n",
       "normalized-losses    0\n",
       "make                 0\n",
       "fuel-type            0\n",
       "body-style           0\n",
       "drive-wheels         0\n",
       "engine-location      0\n",
       "width                0\n",
       "height               0\n",
       "engine-type          0\n",
       "engine-size          0\n",
       "horsepower           0\n",
       "city-mpg             0\n",
       "highway-mpg          0\n",
       "price                0\n",
       "dtype: int64"
      ]
     },
     "execution_count": 8,
     "metadata": {},
     "output_type": "execute_result"
    }
   ],
   "source": [
    "df.isnull().sum()"
   ]
  },
  {
   "cell_type": "markdown",
   "id": "e1481db7",
   "metadata": {},
   "source": [
    "#### Value counts check"
   ]
  },
  {
   "cell_type": "code",
   "execution_count": 9,
   "id": "ec8a5cbf",
   "metadata": {},
   "outputs": [
    {
     "data": {
      "text/plain": [
       " 0    67\n",
       " 1    54\n",
       " 2    32\n",
       " 3    27\n",
       "-1    22\n",
       "-2     3\n",
       "Name: symboling, dtype: int64"
      ]
     },
     "execution_count": 9,
     "metadata": {},
     "output_type": "execute_result"
    }
   ],
   "source": [
    "df['symboling'].value_counts()"
   ]
  },
  {
   "cell_type": "code",
   "execution_count": 10,
   "id": "d4e5bd0b",
   "metadata": {},
   "outputs": [
    {
     "data": {
      "text/plain": [
       "toyota           32\n",
       "nissan           18\n",
       "mazda            17\n",
       "mitsubishi       13\n",
       "honda            13\n",
       "subaru           12\n",
       "volkswagen       12\n",
       "peugot           11\n",
       "volvo            11\n",
       "dodge             9\n",
       "mercedes-benz     8\n",
       "bmw               8\n",
       "audi              7\n",
       "plymouth          7\n",
       "saab              6\n",
       "porsche           5\n",
       "isuzu             4\n",
       "jaguar            3\n",
       "chevrolet         3\n",
       "alfa-romero       3\n",
       "renault           2\n",
       "mercury           1\n",
       "Name: make, dtype: int64"
      ]
     },
     "execution_count": 10,
     "metadata": {},
     "output_type": "execute_result"
    }
   ],
   "source": [
    "df['make'].value_counts()"
   ]
  },
  {
   "cell_type": "code",
   "execution_count": 11,
   "id": "18594508",
   "metadata": {},
   "outputs": [
    {
     "data": {
      "text/plain": [
       "gas       185\n",
       "diesel     20\n",
       "Name: fuel-type, dtype: int64"
      ]
     },
     "execution_count": 11,
     "metadata": {},
     "output_type": "execute_result"
    }
   ],
   "source": [
    "df['fuel-type'].value_counts()"
   ]
  },
  {
   "cell_type": "code",
   "execution_count": 12,
   "id": "3070a07b",
   "metadata": {},
   "outputs": [
    {
     "data": {
      "text/plain": [
       "?      41\n",
       "161    11\n",
       "91      8\n",
       "150     7\n",
       "128     6\n",
       "104     6\n",
       "134     6\n",
       "103     5\n",
       "85      5\n",
       "168     5\n",
       "74      5\n",
       "95      5\n",
       "65      5\n",
       "94      5\n",
       "102     5\n",
       "122     4\n",
       "93      4\n",
       "106     4\n",
       "118     4\n",
       "148     4\n",
       "83      3\n",
       "137     3\n",
       "125     3\n",
       "101     3\n",
       "115     3\n",
       "154     3\n",
       "87      2\n",
       "197     2\n",
       "113     2\n",
       "81      2\n",
       "110     2\n",
       "153     2\n",
       "188     2\n",
       "192     2\n",
       "164     2\n",
       "194     2\n",
       "119     2\n",
       "108     2\n",
       "89      2\n",
       "158     2\n",
       "145     2\n",
       "129     2\n",
       "98      1\n",
       "121     1\n",
       "142     1\n",
       "90      1\n",
       "186     1\n",
       "77      1\n",
       "256     1\n",
       "78      1\n",
       "107     1\n",
       "231     1\n",
       "Name: normalized-losses, dtype: int64"
      ]
     },
     "execution_count": 12,
     "metadata": {},
     "output_type": "execute_result"
    }
   ],
   "source": [
    "df['normalized-losses'].value_counts()"
   ]
  },
  {
   "cell_type": "code",
   "execution_count": 13,
   "id": "9199b783",
   "metadata": {},
   "outputs": [
    {
     "data": {
      "text/plain": [
       "68     19\n",
       "70     11\n",
       "69     10\n",
       "116     9\n",
       "110     8\n",
       "95      7\n",
       "101     6\n",
       "88      6\n",
       "62      6\n",
       "160     6\n",
       "114     6\n",
       "102     5\n",
       "97      5\n",
       "82      5\n",
       "76      5\n",
       "84      5\n",
       "145     5\n",
       "123     4\n",
       "111     4\n",
       "92      4\n",
       "86      4\n",
       "182     3\n",
       "90      3\n",
       "152     3\n",
       "85      3\n",
       "207     3\n",
       "121     3\n",
       "73      3\n",
       "112     2\n",
       "100     2\n",
       "52      2\n",
       "94      2\n",
       "56      2\n",
       "184     2\n",
       "176     2\n",
       "161     2\n",
       "162     2\n",
       "?       2\n",
       "155     2\n",
       "156     2\n",
       "106     1\n",
       "135     1\n",
       "120     1\n",
       "115     1\n",
       "64      1\n",
       "55      1\n",
       "288     1\n",
       "72      1\n",
       "200     1\n",
       "154     1\n",
       "48      1\n",
       "143     1\n",
       "134     1\n",
       "140     1\n",
       "142     1\n",
       "175     1\n",
       "262     1\n",
       "78      1\n",
       "58      1\n",
       "60      1\n",
       "Name: horsepower, dtype: int64"
      ]
     },
     "execution_count": 13,
     "metadata": {},
     "output_type": "execute_result"
    }
   ],
   "source": [
    "df['horsepower'].value_counts()"
   ]
  },
  {
   "cell_type": "code",
   "execution_count": 14,
   "id": "9f6149fc",
   "metadata": {},
   "outputs": [
    {
     "data": {
      "text/plain": [
       "sedan          96\n",
       "hatchback      70\n",
       "wagon          25\n",
       "hardtop         8\n",
       "convertible     6\n",
       "Name: body-style, dtype: int64"
      ]
     },
     "execution_count": 14,
     "metadata": {},
     "output_type": "execute_result"
    }
   ],
   "source": [
    "df['body-style'].value_counts()"
   ]
  },
  {
   "cell_type": "code",
   "execution_count": 15,
   "id": "f7ad6b45",
   "metadata": {},
   "outputs": [
    {
     "data": {
      "text/plain": [
       "fwd    120\n",
       "rwd     76\n",
       "4wd      9\n",
       "Name: drive-wheels, dtype: int64"
      ]
     },
     "execution_count": 15,
     "metadata": {},
     "output_type": "execute_result"
    }
   ],
   "source": [
    "df['drive-wheels'].value_counts()"
   ]
  },
  {
   "cell_type": "markdown",
   "id": "58a93b18",
   "metadata": {},
   "source": [
    "from above value counts situtation we havent found null values but there are multiple zero values present in the data we have to create the zero values to nan values "
   ]
  },
  {
   "cell_type": "markdown",
   "id": "8ba501a7",
   "metadata": {},
   "source": [
    "In 'normalized-losses' and 'horsepower' there are values which contain '?' ,now we will remove this using a lib SimpleImputer "
   ]
  },
  {
   "cell_type": "markdown",
   "id": "e7da30e9",
   "metadata": {},
   "source": [
    "#### Replacing Process "
   ]
  },
  {
   "cell_type": "code",
   "execution_count": 16,
   "id": "0d154549",
   "metadata": {},
   "outputs": [],
   "source": [
    "df['horsepower'].replace('?',np.nan,inplace=True)\n",
    "df['normalized-losses'].replace('?',np.nan,inplace=True)"
   ]
  },
  {
   "cell_type": "markdown",
   "id": "cfc4568e",
   "metadata": {},
   "source": [
    "#### Simple Imputer "
   ]
  },
  {
   "cell_type": "code",
   "execution_count": 17,
   "id": "f071af5b",
   "metadata": {},
   "outputs": [],
   "source": [
    "from sklearn.impute import SimpleImputer"
   ]
  },
  {
   "cell_type": "code",
   "execution_count": 18,
   "id": "f7978710",
   "metadata": {},
   "outputs": [],
   "source": [
    "si  = SimpleImputer(missing_values=np.nan,strategy='mean')\n"
   ]
  },
  {
   "cell_type": "code",
   "execution_count": 19,
   "id": "e6f79cfd",
   "metadata": {},
   "outputs": [],
   "source": [
    "df[['normalized-losses','horsepower']]= si.fit_transform(df[['normalized-losses','horsepower']])"
   ]
  },
  {
   "cell_type": "markdown",
   "id": "e44af786",
   "metadata": {},
   "source": [
    "### Seprating Targets and Features "
   ]
  },
  {
   "cell_type": "code",
   "execution_count": 20,
   "id": "5114c5a3",
   "metadata": {},
   "outputs": [],
   "source": [
    "features = df.iloc[:,:-1]"
   ]
  },
  {
   "cell_type": "code",
   "execution_count": 21,
   "id": "905613f5",
   "metadata": {},
   "outputs": [],
   "source": [
    "target = df.iloc[:,-1]"
   ]
  },
  {
   "cell_type": "markdown",
   "id": "d2396d56",
   "metadata": {},
   "source": [
    "## Removing Outliers"
   ]
  },
  {
   "cell_type": "code",
   "execution_count": 22,
   "id": "cd4c8074",
   "metadata": {
    "scrolled": true
   },
   "outputs": [
    {
     "data": {
      "image/png": "[encoded data removed]",
      "text/plain": [
       "<Figure size 648x504 with 1 Axes>"
      ]
     },
     "metadata": {
      "needs_background": "light"
     },
     "output_type": "display_data"
    }
   ],
   "source": [
    "plt.figure(figsize=(9,7))\n",
    "sns.boxplot( x='price',y='make',data=df)\n",
    "plt.grid()\n",
    "plt.show()"
   ]
  },
  {
   "cell_type": "code",
   "execution_count": 23,
   "id": "1e6850ee",
   "metadata": {},
   "outputs": [
    {
     "data": {
      "text/html": [
       "<div>\n",
       "<style scoped>\n",
       "    .dataframe tbody tr th:only-of-type {\n",
       "        vertical-align: middle;\n",
       "    }\n",
       "\n",
       "    .dataframe tbody tr th {\n",
       "        vertical-align: top;\n",
       "    }\n",
       "\n",
       "    .dataframe thead th {\n",
       "        text-align: right;\n",
       "    }\n",
       "</style>\n",
       "<table border=\"1\" class=\"dataframe\">\n",
       "  <thead>\n",
       "    <tr style=\"text-align: right;\">\n",
       "      <th></th>\n",
       "      <th>symboling</th>\n",
       "      <th>normalized-losses</th>\n",
       "      <th>make</th>\n",
       "      <th>fuel-type</th>\n",
       "      <th>body-style</th>\n",
       "      <th>drive-wheels</th>\n",
       "      <th>engine-location</th>\n",
       "      <th>width</th>\n",
       "      <th>height</th>\n",
       "      <th>engine-type</th>\n",
       "      <th>engine-size</th>\n",
       "      <th>horsepower</th>\n",
       "      <th>city-mpg</th>\n",
       "      <th>highway-mpg</th>\n",
       "    </tr>\n",
       "  </thead>\n",
       "  <tbody>\n",
       "    <tr>\n",
       "      <th>29</th>\n",
       "      <td>3</td>\n",
       "      <td>145.0</td>\n",
       "      <td>dodge</td>\n",
       "      <td>gas</td>\n",
       "      <td>hatchback</td>\n",
       "      <td>fwd</td>\n",
       "      <td>front</td>\n",
       "      <td>66.3</td>\n",
       "      <td>50.2</td>\n",
       "      <td>ohc</td>\n",
       "      <td>156</td>\n",
       "      <td>145.0</td>\n",
       "      <td>19</td>\n",
       "      <td>24</td>\n",
       "    </tr>\n",
       "  </tbody>\n",
       "</table>\n",
       "</div>"
      ],
      "text/plain": [
       "    symboling  normalized-losses   make fuel-type body-style drive-wheels  \\\n",
       "29          3              145.0  dodge       gas  hatchback          fwd   \n",
       "\n",
       "   engine-location  width  height engine-type  engine-size  horsepower  \\\n",
       "29           front   66.3    50.2         ohc          156       145.0   \n",
       "\n",
       "    city-mpg  highway-mpg  \n",
       "29        19           24  "
      ]
     },
     "execution_count": 23,
     "metadata": {},
     "output_type": "execute_result"
    }
   ],
   "source": [
    "features[(features['make']==\"dodge\")& (target>10000)]"
   ]
  },
  {
   "cell_type": "code",
   "execution_count": 24,
   "id": "15f461b6",
   "metadata": {},
   "outputs": [],
   "source": [
    "features[(features['make']==\"dodge\")& (target>10000)]\n",
    "features.drop(29,axis=0,inplace=True)\n",
    "target.drop(29,axis=0,inplace=True)"
   ]
  },
  {
   "cell_type": "code",
   "execution_count": 25,
   "id": "de7f45fe",
   "metadata": {},
   "outputs": [
    {
     "data": {
      "text/html": [
       "<div>\n",
       "<style scoped>\n",
       "    .dataframe tbody tr th:only-of-type {\n",
       "        vertical-align: middle;\n",
       "    }\n",
       "\n",
       "    .dataframe tbody tr th {\n",
       "        vertical-align: top;\n",
       "    }\n",
       "\n",
       "    .dataframe thead th {\n",
       "        text-align: right;\n",
       "    }\n",
       "</style>\n",
       "<table border=\"1\" class=\"dataframe\">\n",
       "  <thead>\n",
       "    <tr style=\"text-align: right;\">\n",
       "      <th></th>\n",
       "      <th>symboling</th>\n",
       "      <th>normalized-losses</th>\n",
       "      <th>make</th>\n",
       "      <th>fuel-type</th>\n",
       "      <th>body-style</th>\n",
       "      <th>drive-wheels</th>\n",
       "      <th>engine-location</th>\n",
       "      <th>width</th>\n",
       "      <th>height</th>\n",
       "      <th>engine-type</th>\n",
       "      <th>engine-size</th>\n",
       "      <th>horsepower</th>\n",
       "      <th>city-mpg</th>\n",
       "      <th>highway-mpg</th>\n",
       "    </tr>\n",
       "  </thead>\n",
       "  <tbody>\n",
       "    <tr>\n",
       "      <th>41</th>\n",
       "      <td>0</td>\n",
       "      <td>85.0</td>\n",
       "      <td>honda</td>\n",
       "      <td>gas</td>\n",
       "      <td>sedan</td>\n",
       "      <td>fwd</td>\n",
       "      <td>front</td>\n",
       "      <td>65.2</td>\n",
       "      <td>54.1</td>\n",
       "      <td>ohc</td>\n",
       "      <td>110</td>\n",
       "      <td>101.0</td>\n",
       "      <td>24</td>\n",
       "      <td>28</td>\n",
       "    </tr>\n",
       "  </tbody>\n",
       "</table>\n",
       "</div>"
      ],
      "text/plain": [
       "    symboling  normalized-losses   make fuel-type body-style drive-wheels  \\\n",
       "41          0               85.0  honda       gas      sedan          fwd   \n",
       "\n",
       "   engine-location  width  height engine-type  engine-size  horsepower  \\\n",
       "41           front   65.2    54.1         ohc          110       101.0   \n",
       "\n",
       "    city-mpg  highway-mpg  \n",
       "41        24           28  "
      ]
     },
     "execution_count": 25,
     "metadata": {},
     "output_type": "execute_result"
    }
   ],
   "source": [
    "features[(features['make']==\"honda\")& (target>12000)]\n"
   ]
  },
  {
   "cell_type": "code",
   "execution_count": 26,
   "id": "9f8a6d45",
   "metadata": {},
   "outputs": [],
   "source": [
    "features.drop(41,axis=0,inplace=True)\n",
    "target.drop(41,axis=0,inplace=True)"
   ]
  },
  {
   "cell_type": "code",
   "execution_count": 27,
   "id": "79bd996e",
   "metadata": {},
   "outputs": [
    {
     "data": {
      "text/html": [
       "<div>\n",
       "<style scoped>\n",
       "    .dataframe tbody tr th:only-of-type {\n",
       "        vertical-align: middle;\n",
       "    }\n",
       "\n",
       "    .dataframe tbody tr th {\n",
       "        vertical-align: top;\n",
       "    }\n",
       "\n",
       "    .dataframe thead th {\n",
       "        text-align: right;\n",
       "    }\n",
       "</style>\n",
       "<table border=\"1\" class=\"dataframe\">\n",
       "  <thead>\n",
       "    <tr style=\"text-align: right;\">\n",
       "      <th></th>\n",
       "      <th>symboling</th>\n",
       "      <th>normalized-losses</th>\n",
       "      <th>make</th>\n",
       "      <th>fuel-type</th>\n",
       "      <th>body-style</th>\n",
       "      <th>drive-wheels</th>\n",
       "      <th>engine-location</th>\n",
       "      <th>width</th>\n",
       "      <th>height</th>\n",
       "      <th>engine-type</th>\n",
       "      <th>engine-size</th>\n",
       "      <th>horsepower</th>\n",
       "      <th>city-mpg</th>\n",
       "      <th>highway-mpg</th>\n",
       "    </tr>\n",
       "  </thead>\n",
       "  <tbody>\n",
       "    <tr>\n",
       "      <th>83</th>\n",
       "      <td>3</td>\n",
       "      <td>122.0</td>\n",
       "      <td>mitsubishi</td>\n",
       "      <td>gas</td>\n",
       "      <td>hatchback</td>\n",
       "      <td>fwd</td>\n",
       "      <td>front</td>\n",
       "      <td>66.3</td>\n",
       "      <td>50.2</td>\n",
       "      <td>ohc</td>\n",
       "      <td>156</td>\n",
       "      <td>145.0</td>\n",
       "      <td>19</td>\n",
       "      <td>24</td>\n",
       "    </tr>\n",
       "    <tr>\n",
       "      <th>84</th>\n",
       "      <td>3</td>\n",
       "      <td>122.0</td>\n",
       "      <td>mitsubishi</td>\n",
       "      <td>gas</td>\n",
       "      <td>hatchback</td>\n",
       "      <td>fwd</td>\n",
       "      <td>front</td>\n",
       "      <td>66.3</td>\n",
       "      <td>50.2</td>\n",
       "      <td>ohc</td>\n",
       "      <td>156</td>\n",
       "      <td>145.0</td>\n",
       "      <td>19</td>\n",
       "      <td>24</td>\n",
       "    </tr>\n",
       "  </tbody>\n",
       "</table>\n",
       "</div>"
      ],
      "text/plain": [
       "    symboling  normalized-losses        make fuel-type body-style  \\\n",
       "83          3              122.0  mitsubishi       gas  hatchback   \n",
       "84          3              122.0  mitsubishi       gas  hatchback   \n",
       "\n",
       "   drive-wheels engine-location  width  height engine-type  engine-size  \\\n",
       "83          fwd           front   66.3    50.2         ohc          156   \n",
       "84          fwd           front   66.3    50.2         ohc          156   \n",
       "\n",
       "    horsepower  city-mpg  highway-mpg  \n",
       "83       145.0        19           24  \n",
       "84       145.0        19           24  "
      ]
     },
     "execution_count": 27,
     "metadata": {},
     "output_type": "execute_result"
    }
   ],
   "source": [
    "features[(features['make']==\"mitsubishi\")& (target>13000)]\n"
   ]
  },
  {
   "cell_type": "code",
   "execution_count": 28,
   "id": "9ffa9449",
   "metadata": {},
   "outputs": [],
   "source": [
    "features.drop([83,84],axis=0,inplace=True)\n",
    "target.drop([83,84],axis=0,inplace=True)"
   ]
  },
  {
   "cell_type": "code",
   "execution_count": 29,
   "id": "65e362cd",
   "metadata": {},
   "outputs": [
    {
     "data": {
      "text/html": [
       "<div>\n",
       "<style scoped>\n",
       "    .dataframe tbody tr th:only-of-type {\n",
       "        vertical-align: middle;\n",
       "    }\n",
       "\n",
       "    .dataframe tbody tr th {\n",
       "        vertical-align: top;\n",
       "    }\n",
       "\n",
       "    .dataframe thead th {\n",
       "        text-align: right;\n",
       "    }\n",
       "</style>\n",
       "<table border=\"1\" class=\"dataframe\">\n",
       "  <thead>\n",
       "    <tr style=\"text-align: right;\">\n",
       "      <th></th>\n",
       "      <th>symboling</th>\n",
       "      <th>normalized-losses</th>\n",
       "      <th>make</th>\n",
       "      <th>fuel-type</th>\n",
       "      <th>body-style</th>\n",
       "      <th>drive-wheels</th>\n",
       "      <th>engine-location</th>\n",
       "      <th>width</th>\n",
       "      <th>height</th>\n",
       "      <th>engine-type</th>\n",
       "      <th>engine-size</th>\n",
       "      <th>horsepower</th>\n",
       "      <th>city-mpg</th>\n",
       "      <th>highway-mpg</th>\n",
       "    </tr>\n",
       "  </thead>\n",
       "  <tbody>\n",
       "    <tr>\n",
       "      <th>45</th>\n",
       "      <td>0</td>\n",
       "      <td>122.0</td>\n",
       "      <td>isuzu</td>\n",
       "      <td>gas</td>\n",
       "      <td>sedan</td>\n",
       "      <td>fwd</td>\n",
       "      <td>front</td>\n",
       "      <td>63.6</td>\n",
       "      <td>52.0</td>\n",
       "      <td>ohc</td>\n",
       "      <td>90</td>\n",
       "      <td>70.0</td>\n",
       "      <td>38</td>\n",
       "      <td>43</td>\n",
       "    </tr>\n",
       "  </tbody>\n",
       "</table>\n",
       "</div>"
      ],
      "text/plain": [
       "    symboling  normalized-losses   make fuel-type body-style drive-wheels  \\\n",
       "45          0              122.0  isuzu       gas      sedan          fwd   \n",
       "\n",
       "   engine-location  width  height engine-type  engine-size  horsepower  \\\n",
       "45           front   63.6    52.0         ohc           90        70.0   \n",
       "\n",
       "    city-mpg  highway-mpg  \n",
       "45        38           43  "
      ]
     },
     "execution_count": 29,
     "metadata": {},
     "output_type": "execute_result"
    }
   ],
   "source": [
    "features[(features['make']==\"isuzu\")& (target>20000)]\n"
   ]
  },
  {
   "cell_type": "code",
   "execution_count": 30,
   "id": "268f0b9e",
   "metadata": {},
   "outputs": [],
   "source": [
    "features.drop(45,axis=0,inplace=True)\n",
    "target.drop(45,axis=0,inplace=True)"
   ]
  },
  {
   "cell_type": "code",
   "execution_count": 31,
   "id": "e79ea838",
   "metadata": {},
   "outputs": [
    {
     "data": {
      "text/html": [
       "<div>\n",
       "<style scoped>\n",
       "    .dataframe tbody tr th:only-of-type {\n",
       "        vertical-align: middle;\n",
       "    }\n",
       "\n",
       "    .dataframe tbody tr th {\n",
       "        vertical-align: top;\n",
       "    }\n",
       "\n",
       "    .dataframe thead th {\n",
       "        text-align: right;\n",
       "    }\n",
       "</style>\n",
       "<table border=\"1\" class=\"dataframe\">\n",
       "  <thead>\n",
       "    <tr style=\"text-align: right;\">\n",
       "      <th></th>\n",
       "      <th>symboling</th>\n",
       "      <th>normalized-losses</th>\n",
       "      <th>make</th>\n",
       "      <th>fuel-type</th>\n",
       "      <th>body-style</th>\n",
       "      <th>drive-wheels</th>\n",
       "      <th>engine-location</th>\n",
       "      <th>width</th>\n",
       "      <th>height</th>\n",
       "      <th>engine-type</th>\n",
       "      <th>engine-size</th>\n",
       "      <th>horsepower</th>\n",
       "      <th>city-mpg</th>\n",
       "      <th>highway-mpg</th>\n",
       "    </tr>\n",
       "  </thead>\n",
       "  <tbody>\n",
       "    <tr>\n",
       "      <th>124</th>\n",
       "      <td>3</td>\n",
       "      <td>122.0</td>\n",
       "      <td>plymouth</td>\n",
       "      <td>gas</td>\n",
       "      <td>hatchback</td>\n",
       "      <td>rwd</td>\n",
       "      <td>front</td>\n",
       "      <td>66.3</td>\n",
       "      <td>50.2</td>\n",
       "      <td>ohc</td>\n",
       "      <td>156</td>\n",
       "      <td>145.0</td>\n",
       "      <td>19</td>\n",
       "      <td>24</td>\n",
       "    </tr>\n",
       "  </tbody>\n",
       "</table>\n",
       "</div>"
      ],
      "text/plain": [
       "     symboling  normalized-losses      make fuel-type body-style drive-wheels  \\\n",
       "124          3              122.0  plymouth       gas  hatchback          rwd   \n",
       "\n",
       "    engine-location  width  height engine-type  engine-size  horsepower  \\\n",
       "124           front   66.3    50.2         ohc          156       145.0   \n",
       "\n",
       "     city-mpg  highway-mpg  \n",
       "124        19           24  "
      ]
     },
     "execution_count": 31,
     "metadata": {},
     "output_type": "execute_result"
    }
   ],
   "source": [
    "features[(features['make']==\"plymouth\")& (target>10000)]\n"
   ]
  },
  {
   "cell_type": "code",
   "execution_count": 32,
   "id": "d5bf401b",
   "metadata": {},
   "outputs": [],
   "source": [
    "features.drop(124,axis=0,inplace=True)\n",
    "target.drop(124,axis=0,inplace=True)"
   ]
  },
  {
   "cell_type": "code",
   "execution_count": 33,
   "id": "3d3a2014",
   "metadata": {},
   "outputs": [
    {
     "data": {
      "text/html": [
       "<div>\n",
       "<style scoped>\n",
       "    .dataframe tbody tr th:only-of-type {\n",
       "        vertical-align: middle;\n",
       "    }\n",
       "\n",
       "    .dataframe tbody tr th {\n",
       "        vertical-align: top;\n",
       "    }\n",
       "\n",
       "    .dataframe thead th {\n",
       "        text-align: right;\n",
       "    }\n",
       "</style>\n",
       "<table border=\"1\" class=\"dataframe\">\n",
       "  <thead>\n",
       "    <tr style=\"text-align: right;\">\n",
       "      <th></th>\n",
       "      <th>symboling</th>\n",
       "      <th>normalized-losses</th>\n",
       "      <th>make</th>\n",
       "      <th>fuel-type</th>\n",
       "      <th>body-style</th>\n",
       "      <th>drive-wheels</th>\n",
       "      <th>engine-location</th>\n",
       "      <th>width</th>\n",
       "      <th>height</th>\n",
       "      <th>engine-type</th>\n",
       "      <th>engine-size</th>\n",
       "      <th>horsepower</th>\n",
       "      <th>city-mpg</th>\n",
       "      <th>highway-mpg</th>\n",
       "    </tr>\n",
       "  </thead>\n",
       "  <tbody>\n",
       "    <tr>\n",
       "      <th>130</th>\n",
       "      <td>0</td>\n",
       "      <td>122.0</td>\n",
       "      <td>renault</td>\n",
       "      <td>gas</td>\n",
       "      <td>wagon</td>\n",
       "      <td>fwd</td>\n",
       "      <td>front</td>\n",
       "      <td>66.5</td>\n",
       "      <td>55.2</td>\n",
       "      <td>ohc</td>\n",
       "      <td>132</td>\n",
       "      <td>104.256158</td>\n",
       "      <td>23</td>\n",
       "      <td>31</td>\n",
       "    </tr>\n",
       "    <tr>\n",
       "      <th>131</th>\n",
       "      <td>2</td>\n",
       "      <td>122.0</td>\n",
       "      <td>renault</td>\n",
       "      <td>gas</td>\n",
       "      <td>hatchback</td>\n",
       "      <td>fwd</td>\n",
       "      <td>front</td>\n",
       "      <td>66.6</td>\n",
       "      <td>50.5</td>\n",
       "      <td>ohc</td>\n",
       "      <td>132</td>\n",
       "      <td>104.256158</td>\n",
       "      <td>23</td>\n",
       "      <td>31</td>\n",
       "    </tr>\n",
       "  </tbody>\n",
       "</table>\n",
       "</div>"
      ],
      "text/plain": [
       "     symboling  normalized-losses     make fuel-type body-style drive-wheels  \\\n",
       "130          0              122.0  renault       gas      wagon          fwd   \n",
       "131          2              122.0  renault       gas  hatchback          fwd   \n",
       "\n",
       "    engine-location  width  height engine-type  engine-size  horsepower  \\\n",
       "130           front   66.5    55.2         ohc          132  104.256158   \n",
       "131           front   66.6    50.5         ohc          132  104.256158   \n",
       "\n",
       "     city-mpg  highway-mpg  \n",
       "130        23           31  \n",
       "131        23           31  "
      ]
     },
     "execution_count": 33,
     "metadata": {},
     "output_type": "execute_result"
    }
   ],
   "source": [
    "features[(features['make']==\"renault\")& (target>8000)]\n"
   ]
  },
  {
   "cell_type": "code",
   "execution_count": 34,
   "id": "2ff61172",
   "metadata": {},
   "outputs": [],
   "source": [
    "features.drop([130,131],axis=0,inplace=True)\n",
    "target.drop([130,131],axis=0,inplace=True)"
   ]
  },
  {
   "cell_type": "code",
   "execution_count": 35,
   "id": "969e1a7e",
   "metadata": {},
   "outputs": [
    {
     "data": {
      "text/html": [
       "<div>\n",
       "<style scoped>\n",
       "    .dataframe tbody tr th:only-of-type {\n",
       "        vertical-align: middle;\n",
       "    }\n",
       "\n",
       "    .dataframe tbody tr th {\n",
       "        vertical-align: top;\n",
       "    }\n",
       "\n",
       "    .dataframe thead th {\n",
       "        text-align: right;\n",
       "    }\n",
       "</style>\n",
       "<table border=\"1\" class=\"dataframe\">\n",
       "  <thead>\n",
       "    <tr style=\"text-align: right;\">\n",
       "      <th></th>\n",
       "      <th>symboling</th>\n",
       "      <th>normalized-losses</th>\n",
       "      <th>make</th>\n",
       "      <th>fuel-type</th>\n",
       "      <th>body-style</th>\n",
       "      <th>drive-wheels</th>\n",
       "      <th>engine-location</th>\n",
       "      <th>width</th>\n",
       "      <th>height</th>\n",
       "      <th>engine-type</th>\n",
       "      <th>engine-size</th>\n",
       "      <th>horsepower</th>\n",
       "      <th>city-mpg</th>\n",
       "      <th>highway-mpg</th>\n",
       "    </tr>\n",
       "  </thead>\n",
       "  <tbody>\n",
       "    <tr>\n",
       "      <th>172</th>\n",
       "      <td>2</td>\n",
       "      <td>134.0</td>\n",
       "      <td>toyota</td>\n",
       "      <td>gas</td>\n",
       "      <td>convertible</td>\n",
       "      <td>rwd</td>\n",
       "      <td>front</td>\n",
       "      <td>65.6</td>\n",
       "      <td>53.0</td>\n",
       "      <td>ohc</td>\n",
       "      <td>146</td>\n",
       "      <td>116.0</td>\n",
       "      <td>24</td>\n",
       "      <td>30</td>\n",
       "    </tr>\n",
       "    <tr>\n",
       "      <th>178</th>\n",
       "      <td>3</td>\n",
       "      <td>197.0</td>\n",
       "      <td>toyota</td>\n",
       "      <td>gas</td>\n",
       "      <td>hatchback</td>\n",
       "      <td>rwd</td>\n",
       "      <td>front</td>\n",
       "      <td>67.7</td>\n",
       "      <td>52.0</td>\n",
       "      <td>dohc</td>\n",
       "      <td>171</td>\n",
       "      <td>161.0</td>\n",
       "      <td>20</td>\n",
       "      <td>24</td>\n",
       "    </tr>\n",
       "    <tr>\n",
       "      <th>179</th>\n",
       "      <td>3</td>\n",
       "      <td>197.0</td>\n",
       "      <td>toyota</td>\n",
       "      <td>gas</td>\n",
       "      <td>hatchback</td>\n",
       "      <td>rwd</td>\n",
       "      <td>front</td>\n",
       "      <td>67.7</td>\n",
       "      <td>52.0</td>\n",
       "      <td>dohc</td>\n",
       "      <td>171</td>\n",
       "      <td>161.0</td>\n",
       "      <td>19</td>\n",
       "      <td>24</td>\n",
       "    </tr>\n",
       "    <tr>\n",
       "      <th>180</th>\n",
       "      <td>-1</td>\n",
       "      <td>90.0</td>\n",
       "      <td>toyota</td>\n",
       "      <td>gas</td>\n",
       "      <td>sedan</td>\n",
       "      <td>rwd</td>\n",
       "      <td>front</td>\n",
       "      <td>66.5</td>\n",
       "      <td>54.1</td>\n",
       "      <td>dohc</td>\n",
       "      <td>171</td>\n",
       "      <td>156.0</td>\n",
       "      <td>20</td>\n",
       "      <td>24</td>\n",
       "    </tr>\n",
       "    <tr>\n",
       "      <th>181</th>\n",
       "      <td>-1</td>\n",
       "      <td>122.0</td>\n",
       "      <td>toyota</td>\n",
       "      <td>gas</td>\n",
       "      <td>wagon</td>\n",
       "      <td>rwd</td>\n",
       "      <td>front</td>\n",
       "      <td>66.5</td>\n",
       "      <td>54.1</td>\n",
       "      <td>dohc</td>\n",
       "      <td>161</td>\n",
       "      <td>156.0</td>\n",
       "      <td>19</td>\n",
       "      <td>24</td>\n",
       "    </tr>\n",
       "  </tbody>\n",
       "</table>\n",
       "</div>"
      ],
      "text/plain": [
       "     symboling  normalized-losses    make fuel-type   body-style drive-wheels  \\\n",
       "172          2              134.0  toyota       gas  convertible          rwd   \n",
       "178          3              197.0  toyota       gas    hatchback          rwd   \n",
       "179          3              197.0  toyota       gas    hatchback          rwd   \n",
       "180         -1               90.0  toyota       gas        sedan          rwd   \n",
       "181         -1              122.0  toyota       gas        wagon          rwd   \n",
       "\n",
       "    engine-location  width  height engine-type  engine-size  horsepower  \\\n",
       "172           front   65.6    53.0         ohc          146       116.0   \n",
       "178           front   67.7    52.0        dohc          171       161.0   \n",
       "179           front   67.7    52.0        dohc          171       161.0   \n",
       "180           front   66.5    54.1        dohc          171       156.0   \n",
       "181           front   66.5    54.1        dohc          161       156.0   \n",
       "\n",
       "     city-mpg  highway-mpg  \n",
       "172        24           30  \n",
       "178        20           24  \n",
       "179        19           24  \n",
       "180        20           24  \n",
       "181        19           24  "
      ]
     },
     "execution_count": 35,
     "metadata": {},
     "output_type": "execute_result"
    }
   ],
   "source": [
    "features[(features['make']==\"toyota\")& (target>15000)]\n"
   ]
  },
  {
   "cell_type": "code",
   "execution_count": 36,
   "id": "960dd7d6",
   "metadata": {},
   "outputs": [],
   "source": [
    "features.drop([172,178,179,180,181],axis=0,inplace=True)\n",
    "target.drop([172,178,179,180,181],axis=0,inplace=True)"
   ]
  },
  {
   "cell_type": "code",
   "execution_count": 37,
   "id": "2b7f28c5",
   "metadata": {},
   "outputs": [
    {
     "data": {
      "image/png": "[encoded data removed]",
      "text/plain": [
       "<Figure size 648x504 with 1 Axes>"
      ]
     },
     "metadata": {
      "needs_background": "light"
     },
     "output_type": "display_data"
    }
   ],
   "source": [
    "plt.figure(figsize=(9,7))\n",
    "sns.boxplot(x=target,y='make',data=features)\n",
    "plt.grid()\n",
    "plt.show()"
   ]
  },
  {
   "cell_type": "markdown",
   "id": "c29d8e95",
   "metadata": {},
   "source": [
    "## Skewness"
   ]
  },
  {
   "cell_type": "code",
   "execution_count": 38,
   "id": "55302f35",
   "metadata": {},
   "outputs": [
    {
     "data": {
      "text/plain": [
       "symboling              int64\n",
       "normalized-losses    float64\n",
       "make                  object\n",
       "fuel-type             object\n",
       "body-style            object\n",
       "drive-wheels          object\n",
       "engine-location       object\n",
       "width                float64\n",
       "height               float64\n",
       "engine-type           object\n",
       "engine-size            int64\n",
       "horsepower           float64\n",
       "city-mpg               int64\n",
       "highway-mpg            int64\n",
       "dtype: object"
      ]
     },
     "execution_count": 38,
     "metadata": {},
     "output_type": "execute_result"
    }
   ],
   "source": [
    "features.dtypes"
   ]
  },
  {
   "cell_type": "code",
   "execution_count": 39,
   "id": "e293215a",
   "metadata": {},
   "outputs": [],
   "source": [
    "colname = features.select_dtypes(['int64','float64']).columns"
   ]
  },
  {
   "cell_type": "code",
   "execution_count": 40,
   "id": "521a5aa1",
   "metadata": {},
   "outputs": [
    {
     "data": {
      "text/plain": [
       "Index(['symboling', 'normalized-losses', 'width', 'height', 'engine-size',\n",
       "       'horsepower', 'city-mpg', 'highway-mpg'],\n",
       "      dtype='object')"
      ]
     },
     "execution_count": 40,
     "metadata": {},
     "output_type": "execute_result"
    }
   ],
   "source": [
    "colname"
   ]
  },
  {
   "cell_type": "code",
   "execution_count": 41,
   "id": "6577d2b1",
   "metadata": {},
   "outputs": [],
   "source": [
    "from scipy.stats import skew"
   ]
  },
  {
   "cell_type": "code",
   "execution_count": 42,
   "id": "68fc5d58",
   "metadata": {},
   "outputs": [
    {
     "data": {
      "text/plain": [
       "0.8485348696008058"
      ]
     },
     "execution_count": 42,
     "metadata": {},
     "output_type": "execute_result"
    }
   ],
   "source": [
    "skew(df['normalized-losses'])"
   ]
  },
  {
   "cell_type": "code",
   "execution_count": 43,
   "id": "3ce4a0d0",
   "metadata": {},
   "outputs": [
    {
     "name": "stdout",
     "output_type": "stream",
     "text": [
      "symboling\n",
      "0.20952469094997359\n",
      "normalized-losses\n",
      "0.8485348696008058\n",
      "width\n",
      "0.8973753485201392\n",
      "height\n",
      "0.06265991683394276\n",
      "engine-size\n",
      "1.9333748457840114\n",
      "horsepower\n",
      "1.3875147343096037\n",
      "city-mpg\n",
      "0.6588377533622138\n",
      "highway-mpg\n",
      "0.5360379305163596\n"
     ]
    }
   ],
   "source": [
    "for i in colname:\n",
    "    print(i)\n",
    "    print(skew(df[i]))"
   ]
  },
  {
   "cell_type": "markdown",
   "id": "e833700a",
   "metadata": {},
   "source": [
    "Using vizualization tools to watch the skewness carefully and getting some insights out of it ."
   ]
  },
  {
   "cell_type": "markdown",
   "id": "28e3c3c9",
   "metadata": {},
   "source": [
    "## vizualization insights"
   ]
  },
  {
   "cell_type": "code",
   "execution_count": 44,
   "id": "1d6e699a",
   "metadata": {},
   "outputs": [
    {
     "name": "stdout",
     "output_type": "stream",
     "text": [
      "symboling\n",
      "0.21680498808856835\n"
     ]
    },
    {
     "data": {
      "image/png": "[encoded data removed]",
      "text/plain": [
       "<Figure size 504x504 with 1 Axes>"
      ]
     },
     "metadata": {
      "needs_background": "light"
     },
     "output_type": "display_data"
    },
    {
     "name": "stdout",
     "output_type": "stream",
     "text": [
      "normalized-losses\n",
      "0.8444205837314254\n"
     ]
    },
    {
     "data": {
      "image/png": "[encoded data removed]",
      "text/plain": [
       "<Figure size 504x504 with 1 Axes>"
      ]
     },
     "metadata": {
      "needs_background": "light"
     },
     "output_type": "display_data"
    },
    {
     "name": "stdout",
     "output_type": "stream",
     "text": [
      "width\n",
      "0.9196971380212939\n"
     ]
    },
    {
     "data": {
      "image/png": "[encoded data removed]",
      "text/plain": [
       "<Figure size 504x504 with 1 Axes>"
      ]
     },
     "metadata": {
      "needs_background": "light"
     },
     "output_type": "display_data"
    },
    {
     "name": "stdout",
     "output_type": "stream",
     "text": [
      "height\n",
      "0.013754019877847854\n"
     ]
    },
    {
     "data": {
      "image/png": "[encoded data removed]",
      "text/plain": [
       "<Figure size 504x504 with 1 Axes>"
      ]
     },
     "metadata": {
      "needs_background": "light"
     },
     "output_type": "display_data"
    },
    {
     "name": "stdout",
     "output_type": "stream",
     "text": [
      "engine-size\n",
      "2.0489360901881692\n"
     ]
    },
    {
     "data": {
      "image/png": "[encoded data removed]",
      "text/plain": [
       "<Figure size 504x504 with 1 Axes>"
      ]
     },
     "metadata": {
      "needs_background": "light"
     },
     "output_type": "display_data"
    },
    {
     "name": "stdout",
     "output_type": "stream",
     "text": [
      "horsepower\n",
      "1.5491171297512778\n"
     ]
    },
    {
     "data": {
      "image/png": "[encoded data removed]",
      "text/plain": [
       "<Figure size 504x504 with 1 Axes>"
      ]
     },
     "metadata": {
      "needs_background": "light"
     },
     "output_type": "display_data"
    },
    {
     "name": "stdout",
     "output_type": "stream",
     "text": [
      "city-mpg\n",
      "0.5871063086925044\n"
     ]
    },
    {
     "data": {
      "image/png": "[encoded data removed]",
      "text/plain": [
       "<Figure size 504x504 with 1 Axes>"
      ]
     },
     "metadata": {
      "needs_background": "light"
     },
     "output_type": "display_data"
    },
    {
     "name": "stdout",
     "output_type": "stream",
     "text": [
      "highway-mpg\n",
      "0.4736409580604422\n"
     ]
    },
    {
     "data": {
      "image/png": "[encoded data removed]",
      "text/plain": [
       "<Figure size 504x504 with 1 Axes>"
      ]
     },
     "metadata": {
      "needs_background": "light"
     },
     "output_type": "display_data"
    }
   ],
   "source": [
    "for i in features[colname]:\n",
    "    print(i)\n",
    "    print(skew(features[i]))\n",
    "    \n",
    "    \n",
    "    plt.figure(figsize=(7,7))\n",
    "    sns.distplot(features[i],hist=True)\n",
    "    plt.axvline(features[i].mean(),color='red',label='mean')\n",
    "    plt.axvline(features[i].median(),color='black',label='median')\n",
    "    plt.legend()\n",
    "    plt.show()"
   ]
  },
  {
   "cell_type": "markdown",
   "id": "8ad76eed",
   "metadata": {},
   "source": [
    "#### Checking the correlation"
   ]
  },
  {
   "cell_type": "code",
   "execution_count": 45,
   "id": "5b0a6eea",
   "metadata": {
    "scrolled": false
   },
   "outputs": [
    {
     "data": {
      "text/html": [
       "<div>\n",
       "<style scoped>\n",
       "    .dataframe tbody tr th:only-of-type {\n",
       "        vertical-align: middle;\n",
       "    }\n",
       "\n",
       "    .dataframe tbody tr th {\n",
       "        vertical-align: top;\n",
       "    }\n",
       "\n",
       "    .dataframe thead th {\n",
       "        text-align: right;\n",
       "    }\n",
       "</style>\n",
       "<table border=\"1\" class=\"dataframe\">\n",
       "  <thead>\n",
       "    <tr style=\"text-align: right;\">\n",
       "      <th></th>\n",
       "      <th>symboling</th>\n",
       "      <th>normalized-losses</th>\n",
       "      <th>width</th>\n",
       "      <th>height</th>\n",
       "      <th>engine-size</th>\n",
       "      <th>horsepower</th>\n",
       "      <th>city-mpg</th>\n",
       "      <th>highway-mpg</th>\n",
       "      <th>price</th>\n",
       "    </tr>\n",
       "  </thead>\n",
       "  <tbody>\n",
       "    <tr>\n",
       "      <th>symboling</th>\n",
       "      <td>1.000000</td>\n",
       "      <td>0.465190</td>\n",
       "      <td>-0.232919</td>\n",
       "      <td>-0.541038</td>\n",
       "      <td>-0.105790</td>\n",
       "      <td>0.071389</td>\n",
       "      <td>-0.035823</td>\n",
       "      <td>0.034606</td>\n",
       "      <td>-0.085781</td>\n",
       "    </tr>\n",
       "    <tr>\n",
       "      <th>normalized-losses</th>\n",
       "      <td>0.465190</td>\n",
       "      <td>1.000000</td>\n",
       "      <td>0.084195</td>\n",
       "      <td>-0.370706</td>\n",
       "      <td>0.110997</td>\n",
       "      <td>0.203434</td>\n",
       "      <td>-0.218749</td>\n",
       "      <td>-0.178221</td>\n",
       "      <td>0.133424</td>\n",
       "    </tr>\n",
       "    <tr>\n",
       "      <th>width</th>\n",
       "      <td>-0.232919</td>\n",
       "      <td>0.084195</td>\n",
       "      <td>1.000000</td>\n",
       "      <td>0.279210</td>\n",
       "      <td>0.735433</td>\n",
       "      <td>0.642195</td>\n",
       "      <td>-0.642704</td>\n",
       "      <td>-0.677218</td>\n",
       "      <td>0.718253</td>\n",
       "    </tr>\n",
       "    <tr>\n",
       "      <th>height</th>\n",
       "      <td>-0.541038</td>\n",
       "      <td>-0.370706</td>\n",
       "      <td>0.279210</td>\n",
       "      <td>1.000000</td>\n",
       "      <td>0.067149</td>\n",
       "      <td>-0.110137</td>\n",
       "      <td>-0.048640</td>\n",
       "      <td>-0.107358</td>\n",
       "      <td>0.132444</td>\n",
       "    </tr>\n",
       "    <tr>\n",
       "      <th>engine-size</th>\n",
       "      <td>-0.105790</td>\n",
       "      <td>0.110997</td>\n",
       "      <td>0.735433</td>\n",
       "      <td>0.067149</td>\n",
       "      <td>1.000000</td>\n",
       "      <td>0.810713</td>\n",
       "      <td>-0.653658</td>\n",
       "      <td>-0.677470</td>\n",
       "      <td>0.852995</td>\n",
       "    </tr>\n",
       "    <tr>\n",
       "      <th>horsepower</th>\n",
       "      <td>0.071389</td>\n",
       "      <td>0.203434</td>\n",
       "      <td>0.642195</td>\n",
       "      <td>-0.110137</td>\n",
       "      <td>0.810713</td>\n",
       "      <td>1.000000</td>\n",
       "      <td>-0.803162</td>\n",
       "      <td>-0.770903</td>\n",
       "      <td>0.746589</td>\n",
       "    </tr>\n",
       "    <tr>\n",
       "      <th>city-mpg</th>\n",
       "      <td>-0.035823</td>\n",
       "      <td>-0.218749</td>\n",
       "      <td>-0.642704</td>\n",
       "      <td>-0.048640</td>\n",
       "      <td>-0.653658</td>\n",
       "      <td>-0.803162</td>\n",
       "      <td>1.000000</td>\n",
       "      <td>0.971337</td>\n",
       "      <td>-0.654611</td>\n",
       "    </tr>\n",
       "    <tr>\n",
       "      <th>highway-mpg</th>\n",
       "      <td>0.034606</td>\n",
       "      <td>-0.178221</td>\n",
       "      <td>-0.677218</td>\n",
       "      <td>-0.107358</td>\n",
       "      <td>-0.677470</td>\n",
       "      <td>-0.770903</td>\n",
       "      <td>0.971337</td>\n",
       "      <td>1.000000</td>\n",
       "      <td>-0.679048</td>\n",
       "    </tr>\n",
       "    <tr>\n",
       "      <th>price</th>\n",
       "      <td>-0.085781</td>\n",
       "      <td>0.133424</td>\n",
       "      <td>0.718253</td>\n",
       "      <td>0.132444</td>\n",
       "      <td>0.852995</td>\n",
       "      <td>0.746589</td>\n",
       "      <td>-0.654611</td>\n",
       "      <td>-0.679048</td>\n",
       "      <td>1.000000</td>\n",
       "    </tr>\n",
       "  </tbody>\n",
       "</table>\n",
       "</div>"
      ],
      "text/plain": [
       "                   symboling  normalized-losses     width    height  \\\n",
       "symboling           1.000000           0.465190 -0.232919 -0.541038   \n",
       "normalized-losses   0.465190           1.000000  0.084195 -0.370706   \n",
       "width              -0.232919           0.084195  1.000000  0.279210   \n",
       "height             -0.541038          -0.370706  0.279210  1.000000   \n",
       "engine-size        -0.105790           0.110997  0.735433  0.067149   \n",
       "horsepower          0.071389           0.203434  0.642195 -0.110137   \n",
       "city-mpg           -0.035823          -0.218749 -0.642704 -0.048640   \n",
       "highway-mpg         0.034606          -0.178221 -0.677218 -0.107358   \n",
       "price              -0.085781           0.133424  0.718253  0.132444   \n",
       "\n",
       "                   engine-size  horsepower  city-mpg  highway-mpg     price  \n",
       "symboling            -0.105790    0.071389 -0.035823     0.034606 -0.085781  \n",
       "normalized-losses     0.110997    0.203434 -0.218749    -0.178221  0.133424  \n",
       "width                 0.735433    0.642195 -0.642704    -0.677218  0.718253  \n",
       "height                0.067149   -0.110137 -0.048640    -0.107358  0.132444  \n",
       "engine-size           1.000000    0.810713 -0.653658    -0.677470  0.852995  \n",
       "horsepower            0.810713    1.000000 -0.803162    -0.770903  0.746589  \n",
       "city-mpg             -0.653658   -0.803162  1.000000     0.971337 -0.654611  \n",
       "highway-mpg          -0.677470   -0.770903  0.971337     1.000000 -0.679048  \n",
       "price                 0.852995    0.746589 -0.654611    -0.679048  1.000000  "
      ]
     },
     "execution_count": 45,
     "metadata": {},
     "output_type": "execute_result"
    }
   ],
   "source": [
    "df.corr()"
   ]
  },
  {
   "cell_type": "code",
   "execution_count": 46,
   "id": "90e306ff",
   "metadata": {},
   "outputs": [
    {
     "data": {
      "text/plain": [
       "<function matplotlib.pyplot.show(close=None, block=None)>"
      ]
     },
     "execution_count": 46,
     "metadata": {},
     "output_type": "execute_result"
    },
    {
     "data": {
      "image/png": "[encoded data removed]",
      "text/plain": [
       "<Figure size 720x504 with 2 Axes>"
      ]
     },
     "metadata": {
      "needs_background": "light"
     },
     "output_type": "display_data"
    }
   ],
   "source": [
    "plt.figure(figsize=(10,7))\n",
    "sns.heatmap(df.corr())\n",
    "plt.show"
   ]
  },
  {
   "cell_type": "markdown",
   "id": "d2cda3e9",
   "metadata": {},
   "source": [
    "Correlation should be less and skew value should be more in this situation we remove Skewness"
   ]
  },
  {
   "cell_type": "markdown",
   "id": "f1eeb5cc",
   "metadata": {},
   "source": [
    "### Removing Skewness"
   ]
  },
  {
   "cell_type": "markdown",
   "id": "6de531ad",
   "metadata": {},
   "source": [
    "There are 2 techniques taking square root and using log \n",
    "\n",
    "\n",
    "we will be using log method because it gives least values"
   ]
  },
  {
   "cell_type": "code",
   "execution_count": 47,
   "id": "0195d82f",
   "metadata": {},
   "outputs": [],
   "source": [
    "features['normalized-losses']=np.log(features['normalized-losses'])"
   ]
  },
  {
   "cell_type": "code",
   "execution_count": 48,
   "id": "838fdc36",
   "metadata": {},
   "outputs": [
    {
     "data": {
      "text/plain": [
       "0.02289171969989671"
      ]
     },
     "execution_count": 48,
     "metadata": {},
     "output_type": "execute_result"
    }
   ],
   "source": [
    "skew(features['normalized-losses'])"
   ]
  },
  {
   "cell_type": "markdown",
   "id": "520171fb",
   "metadata": {},
   "source": [
    "we have find Skewed data and also removed it "
   ]
  },
  {
   "cell_type": "markdown",
   "id": "9b38c8fa",
   "metadata": {},
   "source": [
    "Now the problem arises that to predict our data should be in integer format so here we will use encoding techniques to encode the data "
   ]
  },
  {
   "cell_type": "markdown",
   "id": "3322804c",
   "metadata": {},
   "source": [
    "## Encoding"
   ]
  },
  {
   "cell_type": "markdown",
   "id": "aab948e7",
   "metadata": {},
   "source": [
    "we will be using ordinal encoder to encode the data "
   ]
  },
  {
   "cell_type": "code",
   "execution_count": 76,
   "id": "7bb52f0f",
   "metadata": {},
   "outputs": [],
   "source": [
    "categorical = df.select_dtypes(['object']).columns"
   ]
  },
  {
   "cell_type": "code",
   "execution_count": 77,
   "id": "95bb7059",
   "metadata": {},
   "outputs": [
    {
     "data": {
      "text/plain": [
       "Index(['make', 'fuel-type', 'body-style', 'drive-wheels', 'engine-location',\n",
       "       'engine-type'],\n",
       "      dtype='object')"
      ]
     },
     "execution_count": 77,
     "metadata": {},
     "output_type": "execute_result"
    }
   ],
   "source": [
    "categorical"
   ]
  },
  {
   "cell_type": "code",
   "execution_count": 78,
   "id": "35466eb4",
   "metadata": {},
   "outputs": [],
   "source": [
    "from sklearn.preprocessing import OrdinalEncoder\n",
    "oe  = OrdinalEncoder()"
   ]
  },
  {
   "cell_type": "code",
   "execution_count": 79,
   "id": "70546146",
   "metadata": {},
   "outputs": [
    {
     "data": {
      "text/plain": [
       "array([[ 0.,  1.,  0.,  2.,  0.,  0.],\n",
       "       [ 0.,  1.,  0.,  2.,  0.,  0.],\n",
       "       [ 0.,  1.,  2.,  2.,  0.,  5.],\n",
       "       ...,\n",
       "       [21.,  1.,  3.,  2.,  0.,  5.],\n",
       "       [21.,  0.,  3.,  2.,  0.,  3.],\n",
       "       [21.,  1.,  3.,  2.,  0.,  3.]])"
      ]
     },
     "execution_count": 79,
     "metadata": {},
     "output_type": "execute_result"
    }
   ],
   "source": [
    "oe.fit_transform(df[categorical])"
   ]
  },
  {
   "cell_type": "code",
   "execution_count": 80,
   "id": "84f65084",
   "metadata": {},
   "outputs": [],
   "source": [
    "df[categorical] = oe.fit_transform(df[categorical])"
   ]
  },
  {
   "cell_type": "code",
   "execution_count": 81,
   "id": "a281ef4a",
   "metadata": {},
   "outputs": [
    {
     "data": {
      "text/plain": [
       "array([[ 1.84540319,  0.1469278 , -1.98865048, ...,  0.21793307,\n",
       "        -0.67657925, -0.57745092],\n",
       "       [ 1.84540319,  0.1469278 , -1.98865048, ...,  0.21793307,\n",
       "        -0.67657925, -0.57745092],\n",
       "       [ 0.17802713,  0.1469278 , -1.98865048, ...,  1.30905221,\n",
       "        -0.98151638, -0.72237978],\n",
       "       ...,\n",
       "       [-1.48934893, -0.83666999,  1.39929   , ...,  0.80155494,\n",
       "        -1.13398494, -1.15716636],\n",
       "       [-1.48934893, -0.83666999,  1.39929   , ...,  0.09105876,\n",
       "         0.08576357, -0.57745092],\n",
       "       [-1.48934893, -0.83666999,  1.39929   , ...,  0.29405766,\n",
       "        -0.98151638, -0.86730864]])"
      ]
     },
     "execution_count": 81,
     "metadata": {},
     "output_type": "execute_result"
    }
   ],
   "source": [
    "features"
   ]
  },
  {
   "cell_type": "markdown",
   "id": "81c94753",
   "metadata": {},
   "source": [
    "now we have to do scaling so that our data will be more standardize and it would be very helpful for the model creation purpose "
   ]
  },
  {
   "cell_type": "markdown",
   "id": "a9ad621a",
   "metadata": {},
   "source": [
    "## Standard Scalar"
   ]
  },
  {
   "cell_type": "code",
   "execution_count": 82,
   "id": "e34763e9",
   "metadata": {},
   "outputs": [
    {
     "data": {
      "text/plain": [
       "array([[ 1.84540319,  0.1469278 , -1.98865048, ...,  0.21793307,\n",
       "        -0.67657925, -0.57745092],\n",
       "       [ 1.84540319,  0.1469278 , -1.98865048, ...,  0.21793307,\n",
       "        -0.67657925, -0.57745092],\n",
       "       [ 0.17802713,  0.1469278 , -1.98865048, ...,  1.30905221,\n",
       "        -0.98151638, -0.72237978],\n",
       "       ...,\n",
       "       [-1.48934893, -0.83666999,  1.39929   , ...,  0.80155494,\n",
       "        -1.13398494, -1.15716636],\n",
       "       [-1.48934893, -0.83666999,  1.39929   , ...,  0.09105876,\n",
       "         0.08576357, -0.57745092],\n",
       "       [-1.48934893, -0.83666999,  1.39929   , ...,  0.29405766,\n",
       "        -0.98151638, -0.86730864]])"
      ]
     },
     "execution_count": 82,
     "metadata": {},
     "output_type": "execute_result"
    }
   ],
   "source": [
    "from sklearn.preprocessing import StandardScaler\n",
    "sc = StandardScaler()\n",
    "sc.fit_transform(features)"
   ]
  },
  {
   "cell_type": "code",
   "execution_count": 83,
   "id": "aa3f12e9",
   "metadata": {},
   "outputs": [],
   "source": [
    "features= sc.fit_transform(features)"
   ]
  },
  {
   "cell_type": "code",
   "execution_count": 84,
   "id": "9e3436e6",
   "metadata": {},
   "outputs": [
    {
     "data": {
      "text/plain": [
       "array([[ 1.84540319,  0.1469278 , -1.98865048, ...,  0.21793307,\n",
       "        -0.67657925, -0.57745092],\n",
       "       [ 1.84540319,  0.1469278 , -1.98865048, ...,  0.21793307,\n",
       "        -0.67657925, -0.57745092],\n",
       "       [ 0.17802713,  0.1469278 , -1.98865048, ...,  1.30905221,\n",
       "        -0.98151638, -0.72237978],\n",
       "       ...,\n",
       "       [-1.48934893, -0.83666999,  1.39929   , ...,  0.80155494,\n",
       "        -1.13398494, -1.15716636],\n",
       "       [-1.48934893, -0.83666999,  1.39929   , ...,  0.09105876,\n",
       "         0.08576357, -0.57745092],\n",
       "       [-1.48934893, -0.83666999,  1.39929   , ...,  0.29405766,\n",
       "        -0.98151638, -0.86730864]])"
      ]
     },
     "execution_count": 84,
     "metadata": {},
     "output_type": "execute_result"
    }
   ],
   "source": [
    "features"
   ]
  },
  {
   "cell_type": "markdown",
   "id": "bbd654d8",
   "metadata": {},
   "source": [
    "## Importing Train Test split "
   ]
  },
  {
   "cell_type": "code",
   "execution_count": 85,
   "id": "80613efd",
   "metadata": {},
   "outputs": [],
   "source": [
    "from sklearn.model_selection import train_test_split\n",
    "X_train,X_test,y_train,y_test = train_test_split(features,target,test_size=0.30,random_state=1)"
   ]
  },
  {
   "cell_type": "markdown",
   "id": "5862daed",
   "metadata": {},
   "source": [
    "In this process we are going to train our data for future Predictions "
   ]
  },
  {
   "cell_type": "markdown",
   "id": "7ef34281",
   "metadata": {},
   "source": [
    "# Building the model "
   ]
  },
  {
   "cell_type": "markdown",
   "id": "f7263575",
   "metadata": {},
   "source": [
    "### Importing the Algorithm "
   ]
  },
  {
   "cell_type": "code",
   "execution_count": 86,
   "id": "2bc798e5",
   "metadata": {},
   "outputs": [],
   "source": [
    "from sklearn.linear_model import LinearRegression\n",
    "from sklearn.neighbors import KNeighborsRegressor\n",
    "from sklearn.tree import DecisionTreeRegressor\n",
    "from sklearn.svm import SVR"
   ]
  },
  {
   "cell_type": "code",
   "execution_count": 87,
   "id": "13ff3193",
   "metadata": {},
   "outputs": [],
   "source": [
    "linreg = LinearRegression()\n",
    "knn = KNeighborsRegressor()\n",
    "dt= DecisionTreeRegressor()\n",
    "svm  = SVR()\n"
   ]
  },
  {
   "cell_type": "markdown",
   "id": "64d94c73",
   "metadata": {},
   "source": [
    "Importing the metrics to check r2_score"
   ]
  },
  {
   "cell_type": "code",
   "execution_count": 88,
   "id": "044e5bb6",
   "metadata": {},
   "outputs": [],
   "source": [
    "from sklearn.metrics import r2_score"
   ]
  },
  {
   "cell_type": "code",
   "execution_count": 89,
   "id": "82a7e7cc",
   "metadata": {},
   "outputs": [],
   "source": [
    "def mymodel(model):\n",
    "    model.fit(X_train,y_train)\n",
    "    y_pred=model.predict(X_test)\n",
    "    print(\"R2 SCORE = \",r2_score(y_test,y_pred))\n",
    "    \n",
    "    train = model.score(X_train,y_train)\n",
    "    test = model.score(X_test,y_test)\n",
    "    \n",
    "    print(\"training score = \",train)\n",
    "    print('testing score  = ',test)"
   ]
  },
  {
   "cell_type": "markdown",
   "id": "6aa2c2a0",
   "metadata": {},
   "source": [
    "## Linear Regression "
   ]
  },
  {
   "cell_type": "code",
   "execution_count": 90,
   "id": "b5cd140c",
   "metadata": {
    "scrolled": false
   },
   "outputs": [
    {
     "name": "stdout",
     "output_type": "stream",
     "text": [
      "R2 SCORE =  0.831658898144517\n",
      "training score =  0.8745718210763144\n",
      "testing score  =  0.831658898144517\n"
     ]
    }
   ],
   "source": [
    "mymodel(linreg)"
   ]
  },
  {
   "cell_type": "markdown",
   "id": "73fc4767",
   "metadata": {},
   "source": [
    "## KNeighbors Regressor"
   ]
  },
  {
   "cell_type": "code",
   "execution_count": 91,
   "id": "92db45f6",
   "metadata": {
    "scrolled": true
   },
   "outputs": [
    {
     "name": "stdout",
     "output_type": "stream",
     "text": [
      "R2 SCORE =  0.704991120192842\n",
      "training score =  0.8452391456425085\n",
      "testing score  =  0.704991120192842\n"
     ]
    }
   ],
   "source": [
    "mymodel(knn)"
   ]
  },
  {
   "cell_type": "markdown",
   "id": "2f4f44a9",
   "metadata": {},
   "source": [
    "## Decision Tree Regressor"
   ]
  },
  {
   "cell_type": "code",
   "execution_count": 92,
   "id": "69588974",
   "metadata": {
    "scrolled": true
   },
   "outputs": [
    {
     "name": "stdout",
     "output_type": "stream",
     "text": [
      "R2 SCORE =  0.8908265397763401\n",
      "training score =  0.9950511364647535\n",
      "testing score  =  0.8908265397763401\n"
     ]
    }
   ],
   "source": [
    "mymodel(dt)"
   ]
  },
  {
   "cell_type": "markdown",
   "id": "ac087345",
   "metadata": {},
   "source": [
    "## SVR"
   ]
  },
  {
   "cell_type": "code",
   "execution_count": 93,
   "id": "80ddd051",
   "metadata": {
    "scrolled": true
   },
   "outputs": [
    {
     "name": "stdout",
     "output_type": "stream",
     "text": [
      "R2 SCORE =  -0.18466161088676802\n",
      "training score =  -0.13375813893881316\n",
      "testing score  =  -0.18466161088676802\n"
     ]
    }
   ],
   "source": [
    "mymodel(svm)"
   ]
  },
  {
   "cell_type": "markdown",
   "id": "9d703cac",
   "metadata": {},
   "source": [
    "### Observation"
   ]
  },
  {
   "cell_type": "markdown",
   "id": "84f43fee",
   "metadata": {},
   "source": [
    "From the above observation we can conclude that the Decision Tree model is the best model"
   ]
  },
  {
   "cell_type": "markdown",
   "id": "28e69657",
   "metadata": {},
   "source": [
    "There is a huge diffrence beetween training and testing score i.e\n",
    "\n",
    "training score =  0.9950511364647535\n",
    "\n",
    "testing score  =  0.8825105063397883\n",
    "\n",
    "diffrence = 0.11254063012496518\n",
    "\n",
    "it shows the diffrence of almost 11% which is huge and can be an obstruction to our predictive model accuracy "
   ]
  },
  {
   "cell_type": "markdown",
   "id": "003739f4",
   "metadata": {},
   "source": [
    "so we are going to use loop method for minimizing the diffrence in their training and testing by using some decision tree tools "
   ]
  },
  {
   "cell_type": "markdown",
   "id": "9f57a24f",
   "metadata": {},
   "source": [
    "### Hyperparameter tuning process using loop "
   ]
  },
  {
   "cell_type": "markdown",
   "id": "17c00dda",
   "metadata": {},
   "source": [
    "### max_depth"
   ]
  },
  {
   "cell_type": "code",
   "execution_count": 94,
   "id": "b11177a7",
   "metadata": {},
   "outputs": [
    {
     "name": "stdout",
     "output_type": "stream",
     "text": [
      "max depth  1   R2 SCORE = 0.7136071673320757\n",
      "max depth  2   R2 SCORE = 0.8914785602609945\n",
      "max depth  3   R2 SCORE = 0.8755179699502483\n",
      "max depth  4   R2 SCORE = 0.9070533170339619\n",
      "max depth  5   R2 SCORE = 0.9071125420989933\n",
      "max depth  6   R2 SCORE = 0.8877722566252122\n",
      "max depth  7   R2 SCORE = 0.8915889958688205\n",
      "max depth  8   R2 SCORE = 0.8912358921656061\n",
      "max depth  9   R2 SCORE = 0.8931166102987113\n",
      "max depth  10   R2 SCORE = 0.8903387725643495\n",
      "max depth  11   R2 SCORE = 0.8964211196565839\n",
      "max depth  12   R2 SCORE = 0.8981101571327181\n",
      "max depth  13   R2 SCORE = 0.8904703892395543\n",
      "max depth  14   R2 SCORE = 0.8959665467037603\n",
      "max depth  15   R2 SCORE = 0.8909515389135378\n",
      "max depth  16   R2 SCORE = 0.8893270837903808\n",
      "max depth  17   R2 SCORE = 0.9018103676261366\n",
      "max depth  18   R2 SCORE = 0.8928055825962531\n",
      "max depth  19   R2 SCORE = 0.89264623020417\n",
      "max depth  20   R2 SCORE = 0.901232848619939\n",
      "max depth  21   R2 SCORE = 0.8876005222217976\n",
      "max depth  22   R2 SCORE = 0.8841002553359264\n",
      "max depth  23   R2 SCORE = 0.8891766176671412\n",
      "max depth  24   R2 SCORE = 0.8818945617791863\n",
      "max depth  25   R2 SCORE = 0.8976523306239117\n",
      "max depth  26   R2 SCORE = 0.8856472215532801\n",
      "max depth  27   R2 SCORE = 0.8970049493712559\n",
      "max depth  28   R2 SCORE = 0.8871821493919302\n",
      "max depth  29   R2 SCORE = 0.9007437001592329\n",
      "max depth  30   R2 SCORE = 0.8878388021765766\n",
      "max depth  31   R2 SCORE = 0.883598319863171\n",
      "max depth  32   R2 SCORE = 0.8968742975273961\n",
      "max depth  33   R2 SCORE = 0.8959454990336665\n",
      "max depth  34   R2 SCORE = 0.8890589800472127\n",
      "max depth  35   R2 SCORE = 0.8987466057852311\n",
      "max depth  36   R2 SCORE = 0.8951728781906533\n",
      "max depth  37   R2 SCORE = 0.9007842242714897\n",
      "max depth  38   R2 SCORE = 0.8947874862706744\n",
      "max depth  39   R2 SCORE = 0.8942495336789142\n",
      "max depth  40   R2 SCORE = 0.8926763039942098\n",
      "max depth  41   R2 SCORE = 0.8963598946268919\n",
      "max depth  42   R2 SCORE = 0.8897181772673127\n",
      "max depth  43   R2 SCORE = 0.8893806709241059\n",
      "max depth  44   R2 SCORE = 0.8893213204583841\n",
      "max depth  45   R2 SCORE = 0.8822771210153431\n",
      "max depth  46   R2 SCORE = 0.8863630726080876\n",
      "max depth  47   R2 SCORE = 0.8988317678794899\n",
      "max depth  48   R2 SCORE = 0.8894719137717441\n",
      "max depth  49   R2 SCORE = 0.8895845355324311\n",
      "max depth  50   R2 SCORE = 0.8854439404052327\n"
     ]
    }
   ],
   "source": [
    "for i in range (1,51):\n",
    "    dt1=DecisionTreeRegressor(max_depth=i)\n",
    "    dt1.fit(X_train,y_train)\n",
    "    y_pred = dt1.predict(X_test)\n",
    "    print(f'max depth  {i}   R2 SCORE = {r2_score(y_test,y_pred)}')"
   ]
  },
  {
   "cell_type": "markdown",
   "id": "0a1bbfde",
   "metadata": {},
   "source": [
    "Best max depth value is 5"
   ]
  },
  {
   "cell_type": "markdown",
   "id": "4ff379b5",
   "metadata": {},
   "source": [
    "### min_sample_split"
   ]
  },
  {
   "cell_type": "code",
   "execution_count": 97,
   "id": "7dfb76b1",
   "metadata": {},
   "outputs": [
    {
     "name": "stdout",
     "output_type": "stream",
     "text": [
      "min_samples_split  2   R2 SCORE = 0.8861813219356006\n",
      "min_samples_split  3   R2 SCORE = 0.9016669357865222\n",
      "min_samples_split  4   R2 SCORE = 0.9057062658491984\n",
      "min_samples_split  5   R2 SCORE = 0.9098087689875932\n",
      "min_samples_split  6   R2 SCORE = 0.9123505588407164\n",
      "min_samples_split  7   R2 SCORE = 0.9219340704004206\n",
      "min_samples_split  8   R2 SCORE = 0.9247696858600503\n",
      "min_samples_split  9   R2 SCORE = 0.914850342786153\n",
      "min_samples_split  10   R2 SCORE = 0.912595392244192\n",
      "min_samples_split  11   R2 SCORE = 0.9197013719736772\n",
      "min_samples_split  12   R2 SCORE = 0.8992186935704021\n",
      "min_samples_split  13   R2 SCORE = 0.8992186935704021\n",
      "min_samples_split  14   R2 SCORE = 0.8989894005263229\n",
      "min_samples_split  15   R2 SCORE = 0.905638996308614\n",
      "min_samples_split  16   R2 SCORE = 0.9054029366224159\n",
      "min_samples_split  17   R2 SCORE = 0.9058225524601273\n",
      "min_samples_split  18   R2 SCORE = 0.9061025804958214\n",
      "min_samples_split  19   R2 SCORE = 0.9061025804958214\n",
      "min_samples_split  20   R2 SCORE = 0.906992568571736\n",
      "min_samples_split  21   R2 SCORE = 0.9071341764913105\n",
      "min_samples_split  22   R2 SCORE = 0.897030905052735\n",
      "min_samples_split  23   R2 SCORE = 0.897030905052735\n",
      "min_samples_split  24   R2 SCORE = 0.897030905052735\n",
      "min_samples_split  25   R2 SCORE = 0.897030905052735\n",
      "min_samples_split  26   R2 SCORE = 0.897030905052735\n",
      "min_samples_split  27   R2 SCORE = 0.897030905052735\n",
      "min_samples_split  28   R2 SCORE = 0.897030905052735\n",
      "min_samples_split  29   R2 SCORE = 0.8928502349616345\n",
      "min_samples_split  30   R2 SCORE = 0.8928502349616345\n",
      "min_samples_split  31   R2 SCORE = 0.8928502349616345\n",
      "min_samples_split  32   R2 SCORE = 0.8928502349616345\n",
      "min_samples_split  33   R2 SCORE = 0.8928502349616345\n",
      "min_samples_split  34   R2 SCORE = 0.8912171947583972\n",
      "min_samples_split  35   R2 SCORE = 0.8912171947583972\n",
      "min_samples_split  36   R2 SCORE = 0.8910172818315393\n",
      "min_samples_split  37   R2 SCORE = 0.8910172818315393\n",
      "min_samples_split  38   R2 SCORE = 0.8910172818315393\n",
      "min_samples_split  39   R2 SCORE = 0.8910172818315393\n",
      "min_samples_split  40   R2 SCORE = 0.892142769364443\n",
      "min_samples_split  41   R2 SCORE = 0.892142769364443\n",
      "min_samples_split  42   R2 SCORE = 0.892142769364443\n",
      "min_samples_split  43   R2 SCORE = 0.892142769364443\n",
      "min_samples_split  44   R2 SCORE = 0.892142769364443\n",
      "min_samples_split  45   R2 SCORE = 0.892142769364443\n",
      "min_samples_split  46   R2 SCORE = 0.892142769364443\n",
      "min_samples_split  47   R2 SCORE = 0.892142769364443\n",
      "min_samples_split  48   R2 SCORE = 0.892142769364443\n",
      "min_samples_split  49   R2 SCORE = 0.892142769364443\n",
      "min_samples_split  50   R2 SCORE = 0.892142769364443\n"
     ]
    }
   ],
   "source": [
    "for i in range (2,51):\n",
    "    dt1=DecisionTreeRegressor(min_samples_split=i)\n",
    "    dt1.fit(X_train,y_train)\n",
    "    y_pred = dt1.predict(X_test)\n",
    "    print(f'min_samples_split  {i}   R2 SCORE = {r2_score(y_test,y_pred)}')"
   ]
  },
  {
   "cell_type": "markdown",
   "id": "83d7fb0d",
   "metadata": {},
   "source": [
    "Best min_Sample_split value is 11"
   ]
  },
  {
   "cell_type": "markdown",
   "id": "a5757a72",
   "metadata": {},
   "source": [
    "### max_leaf_nodes"
   ]
  },
  {
   "cell_type": "code",
   "execution_count": 99,
   "id": "89789485",
   "metadata": {},
   "outputs": [
    {
     "name": "stdout",
     "output_type": "stream",
     "text": [
      "max_leaf_nodes  2   R2 SCORE = 0.7136071673320757\n",
      "max_leaf_nodes  3   R2 SCORE = 0.8836339918338674\n",
      "max_leaf_nodes  4   R2 SCORE = 0.8914785602609945\n",
      "max_leaf_nodes  5   R2 SCORE = 0.8858124848799035\n",
      "max_leaf_nodes  6   R2 SCORE = 0.876643457483152\n",
      "max_leaf_nodes  7   R2 SCORE = 0.8755179699502483\n",
      "max_leaf_nodes  8   R2 SCORE = 0.8866032793182402\n",
      "max_leaf_nodes  9   R2 SCORE = 0.8882363195214775\n",
      "max_leaf_nodes  10   R2 SCORE = 0.8994786699789327\n",
      "max_leaf_nodes  11   R2 SCORE = 0.9120674578106522\n",
      "max_leaf_nodes  12   R2 SCORE = 0.9162481279017528\n",
      "max_leaf_nodes  13   R2 SCORE = 0.9263513993403283\n",
      "max_leaf_nodes  14   R2 SCORE = 0.9218094529824661\n",
      "max_leaf_nodes  15   R2 SCORE = 0.9197018035580372\n",
      "max_leaf_nodes  16   R2 SCORE = 0.921620097427578\n",
      "max_leaf_nodes  17   R2 SCORE = 0.9187844819679483\n",
      "max_leaf_nodes  18   R2 SCORE = 0.9218740255116229\n",
      "max_leaf_nodes  19   R2 SCORE = 0.9168598847349325\n",
      "max_leaf_nodes  20   R2 SCORE = 0.9167182768153581\n",
      "max_leaf_nodes  21   R2 SCORE = 0.9063072710989386\n",
      "max_leaf_nodes  22   R2 SCORE = 0.9099053380432182\n",
      "max_leaf_nodes  23   R2 SCORE = 0.9078582777113078\n",
      "max_leaf_nodes  24   R2 SCORE = 0.9101063699573005\n",
      "max_leaf_nodes  25   R2 SCORE = 0.9103062828841585\n",
      "max_leaf_nodes  26   R2 SCORE = 0.9089910860454326\n",
      "max_leaf_nodes  27   R2 SCORE = 0.9112413693526304\n",
      "max_leaf_nodes  28   R2 SCORE = 0.9115018740869257\n",
      "max_leaf_nodes  29   R2 SCORE = 0.9079038071426463\n",
      "max_leaf_nodes  30   R2 SCORE = 0.8987566251326221\n",
      "max_leaf_nodes  31   R2 SCORE = 0.9060957925791103\n",
      "max_leaf_nodes  32   R2 SCORE = 0.9044393396068804\n",
      "max_leaf_nodes  33   R2 SCORE = 0.9010391798202985\n",
      "max_leaf_nodes  34   R2 SCORE = 0.9032720915103135\n",
      "max_leaf_nodes  35   R2 SCORE = 0.8999900218987349\n",
      "max_leaf_nodes  36   R2 SCORE = 0.8923708264165526\n",
      "max_leaf_nodes  37   R2 SCORE = 0.9004771369847213\n",
      "max_leaf_nodes  38   R2 SCORE = 0.9021808634572805\n",
      "max_leaf_nodes  39   R2 SCORE = 0.8996483464360822\n",
      "max_leaf_nodes  40   R2 SCORE = 0.900253497585287\n",
      "max_leaf_nodes  41   R2 SCORE = 0.8996776137801511\n",
      "max_leaf_nodes  42   R2 SCORE = 0.9037136115824258\n",
      "max_leaf_nodes  43   R2 SCORE = 0.891064935802155\n",
      "max_leaf_nodes  44   R2 SCORE = 0.895641713507535\n",
      "max_leaf_nodes  45   R2 SCORE = 0.8927723780136506\n",
      "max_leaf_nodes  46   R2 SCORE = 0.9004161693769698\n",
      "max_leaf_nodes  47   R2 SCORE = 0.8982366789342004\n",
      "max_leaf_nodes  48   R2 SCORE = 0.8951330102566899\n",
      "max_leaf_nodes  49   R2 SCORE = 0.9033184338873608\n",
      "max_leaf_nodes  50   R2 SCORE = 0.9010055666962198\n"
     ]
    }
   ],
   "source": [
    "for i in range (2,51):\n",
    "    dt1=DecisionTreeRegressor(max_leaf_nodes=i)\n",
    "    dt1.fit(X_train,y_train)\n",
    "    y_pred = dt1.predict(X_test)\n",
    "    print(f'max_leaf_nodes  {i}   R2 SCORE = {r2_score(y_test,y_pred)}')"
   ]
  },
  {
   "cell_type": "markdown",
   "id": "8b2e941e",
   "metadata": {},
   "source": [
    "Best max_leaf_nodes value is 13"
   ]
  },
  {
   "cell_type": "markdown",
   "id": "b153cd5a",
   "metadata": {},
   "source": [
    "Now by using diffrent tools in decision tree i.e. max depth ,min_samples_split , max_leaf_nodes we will increase the prediction power"
   ]
  },
  {
   "cell_type": "code",
   "execution_count": 100,
   "id": "201c285c",
   "metadata": {},
   "outputs": [],
   "source": [
    "Dt1 = DecisionTreeRegressor(max_depth=5,min_samples_split=11,max_leaf_nodes=13,random_state=1)"
   ]
  },
  {
   "cell_type": "code",
   "execution_count": 101,
   "id": "f6552d47",
   "metadata": {},
   "outputs": [
    {
     "name": "stdout",
     "output_type": "stream",
     "text": [
      "R2 SCORE =  0.9273676198232992\n",
      "training score =  0.9271829420089414\n",
      "testing score  =  0.9273676198232992\n"
     ]
    }
   ],
   "source": [
    "mymodel(Dt1)"
   ]
  },
  {
   "cell_type": "code",
   "execution_count": null,
   "id": "b88dcaa9",
   "metadata": {},
   "outputs": [],
   "source": []
  }
 ],
 "metadata": {
  "kernelspec": {
   "display_name": "Python 3 (ipykernel)",
   "language": "python",
   "name": "python3"
  },
  "language_info": {
   "codemirror_mode": {
    "name": "ipython",
    "version": 3
   },
   "file_extension": ".py",
   "mimetype": "text/x-python",
   "name": "python",
   "nbconvert_exporter": "python",
   "pygments_lexer": "ipython3",
   "version": "3.9.13"
  }
 },
 "nbformat": 4,
 "nbformat_minor": 5
}
